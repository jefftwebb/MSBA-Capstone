{
  "nbformat": 4,
  "nbformat_minor": 0,
  "metadata": {
    "colab": {
      "provenance": [],
      "toc_visible": true,
      "authorship_tag": "ABX9TyNPm/pMrvb8nCUZP96XI4Yk",
      "include_colab_link": true
    },
    "kernelspec": {
      "name": "python3",
      "display_name": "Python 3"
    },
    "language_info": {
      "name": "python"
    }
  },
  "cells": [
    {
      "cell_type": "markdown",
      "metadata": {
        "id": "view-in-github",
        "colab_type": "text"
      },
      "source": [
        "<a href=\"https://colab.research.google.com/github/jefftwebb/MSBA-Capstone/blob/main/EDA_tutorial.ipynb\" target=\"_parent\"><img src=\"https://colab.research.google.com/assets/colab-badge.svg\" alt=\"Open In Colab\"/></a>"
      ]
    },
    {
      "cell_type": "markdown",
      "source": [
        "# EDA with  SQL, Python and R in Google Colab\n",
        "\n"
      ],
      "metadata": {
        "id": "XBqPsLAh1g-m"
      }
    },
    {
      "cell_type": "markdown",
      "source": [
        "## 1. Connect to BigQuery and format table display.\n",
        "\n",
        "This interactive authentication requires that you have a google account."
      ],
      "metadata": {
        "id": "SvFjll-dIgbY"
      }
    },
    {
      "cell_type": "code",
      "execution_count": null,
      "metadata": {
        "id": "-Aj9nAb4IURd"
      },
      "outputs": [],
      "source": [
        "from google.colab import auth\n",
        "auth.authenticate_user()\n"
      ]
    },
    {
      "cell_type": "code",
      "source": [
        "from google.colab import data_table\n",
        "data_table.enable_dataframe_formatter()"
      ],
      "metadata": {
        "id": "avYmejO8q3yx"
      },
      "execution_count": 6,
      "outputs": []
    },
    {
      "cell_type": "markdown",
      "source": [
        "This feature makes it more convenient to navigate tables within the notebook."
      ],
      "metadata": {
        "id": "zKfKY0MLtOW8"
      }
    },
    {
      "cell_type": "markdown",
      "source": [
        "## 2. Magic commands to write SQL and R code\n",
        "\n"
      ],
      "metadata": {
        "id": "sRV0St9lSkcm"
      }
    },
    {
      "cell_type": "markdown",
      "source": [
        "First: what are magic commands? "
      ],
      "metadata": {
        "id": "PFoZiK0AH3SX"
      }
    },
    {
      "cell_type": "code",
      "source": [
        "%magic"
      ],
      "metadata": {
        "id": "sdmFGMPlGukJ"
      },
      "execution_count": null,
      "outputs": []
    },
    {
      "cell_type": "markdown",
      "source": [
        "Which ones are available?"
      ],
      "metadata": {
        "id": "l1NFw8j3KiAy"
      }
    },
    {
      "cell_type": "code",
      "source": [
        "%lsmagic"
      ],
      "metadata": {
        "id": "VV6qCarqHYLd"
      },
      "execution_count": null,
      "outputs": []
    },
    {
      "cell_type": "markdown",
      "source": [
        "Notice that there are two levels of magic commands:\n",
        "\n",
        "- %% affects the entire cell; \n",
        "- % affects an individual line.\n",
        "\n",
        "In this tutorial we'll be using bigquery magics (to write SQL against tables in bigquery) and R magics (to write R code).\n",
        "\n",
        "For example, the following cell uses %%bigquery to query the google analytics public dataset, storing the result in a pandas dataframe (the default format in .ipynb) defined in the cell magic statement as \"df.\" Notice that I have referenced my own Google cloud project in the magic command. **You will need to change the project identifier to point to your own GCP project.**\n",
        "\n",
        "Here for illustration we return 10 rows from the entire dataset for Aug 1, 2017."
      ],
      "metadata": {
        "id": "drYbB7bVHayQ"
      }
    },
    {
      "cell_type": "code",
      "source": [
        "%%bigquery --project capstone-359314 df\n",
        "\n",
        "SELECT * FROM bigquery-public-data.google_analytics_sample.ga_sessions_20170801\n",
        "limit 10\n",
        "\n"
      ],
      "metadata": {
        "id": "xvMfRKYSLhnq"
      },
      "execution_count": 2,
      "outputs": []
    },
    {
      "cell_type": "code",
      "source": [
        "type(df)"
      ],
      "metadata": {
        "id": "qbXDx4Io3Gdi"
      },
      "execution_count": null,
      "outputs": []
    },
    {
      "cell_type": "code",
      "source": [
        "df.shape"
      ],
      "metadata": {
        "id": "WFSPa9P95_7v"
      },
      "execution_count": null,
      "outputs": []
    },
    {
      "cell_type": "code",
      "source": [
        "df.info()\n"
      ],
      "metadata": {
        "id": "RMQGuseA2v_E"
      },
      "execution_count": null,
      "outputs": []
    },
    {
      "cell_type": "code",
      "source": [
        "df.head()"
      ],
      "metadata": {
        "id": "g_ant7tnJ1wL"
      },
      "execution_count": null,
      "outputs": []
    },
    {
      "cell_type": "markdown",
      "source": [
        "The arrays from BigQuery have been brought into a pandas dataframe as what appear to be JSON columns. These include: totals, trafficSource, device, geoNetwork, and hits.\n",
        "\n",
        "I prefer to do EDA in R, so my ultimate goal is to produce a rectangular dataset that can be read into R for data exploration. However R will not accept the JSON columns (which it interprets as python dicts). To prepare for EDA in R  let's go back and revise the initial query to flatten the dataset (as well as to pull in more dates) with one row per visit."
      ],
      "metadata": {
        "id": "YzK2oE7I5kCG"
      }
    },
    {
      "cell_type": "markdown",
      "source": [
        "## 3. Flatten Data\n",
        "\n",
        "For reference, here is a detailed [data dictionary](https://support.google.com/analytics/answer/3437719?hl=en&ref_topic=3416089).\n",
        "\n",
        "You will most likely want to create different tables as you explore different ideas during EDA.\n",
        "\n",
        "For this exercise, we will focus on a few tables and bring in a weeks's worth of data. (The query is still time-consuming.)\n",
        "\n"
      ],
      "metadata": {
        "id": "dx7o3b--7xDK"
      }
    },
    {
      "cell_type": "code",
      "source": [
        "%%bigquery --project capstone-359314 df \n",
        "\n",
        "SELECT fullVisitorId, visitId, date,  device.*, totals.*, channelGrouping\n",
        "FROM `bigquery-public-data.google_analytics_sample.ga_sessions_*` \n",
        "WHERE _TABLE_SUFFIX BETWEEN '20160801' AND '20160808'\n",
        "\n"
      ],
      "metadata": {
        "id": "mB4Rke3HXATc"
      },
      "execution_count": 18,
      "outputs": []
    },
    {
      "cell_type": "code",
      "source": [
        "df.shape"
      ],
      "metadata": {
        "id": "PuKJTkFhSfK4"
      },
      "execution_count": null,
      "outputs": []
    },
    {
      "cell_type": "code",
      "source": [
        "df.columns"
      ],
      "metadata": {
        "id": "i1mu2ckwTRY2"
      },
      "execution_count": null,
      "outputs": []
    },
    {
      "cell_type": "markdown",
      "source": [
        "## 4. Import data into R.\n",
        "\n",
        "Load the rpy2 extension."
      ],
      "metadata": {
        "id": "IbUcg-eBVY7l"
      }
    },
    {
      "cell_type": "code",
      "source": [
        "%load_ext rpy2.ipython\n"
      ],
      "metadata": {
        "id": "NyVxMGtkRouf"
      },
      "execution_count": null,
      "outputs": []
    },
    {
      "cell_type": "markdown",
      "source": [
        "Use R magic to load the df dataset into R. (-i stands for \"input.\")"
      ],
      "metadata": {
        "id": "lkhbb3BNCY8k"
      }
    },
    {
      "cell_type": "code",
      "source": [
        "%R -i df"
      ],
      "metadata": {
        "id": "7TevMcoSXW0n"
      },
      "execution_count": 22,
      "outputs": []
    },
    {
      "cell_type": "markdown",
      "source": [
        "Load the tidyverse packages.\n",
        "\n"
      ],
      "metadata": {
        "id": "fSoBKmGbWJWR"
      }
    },
    {
      "cell_type": "code",
      "source": [
        "%R library(tidyverse)"
      ],
      "metadata": {
        "id": "XO-g5cM--6Kx"
      },
      "execution_count": null,
      "outputs": []
    },
    {
      "cell_type": "markdown",
      "source": [
        "Inspect the data."
      ],
      "metadata": {
        "id": "GQhfAU7BWW2A"
      }
    },
    {
      "cell_type": "code",
      "source": [
        "%R str(df)"
      ],
      "metadata": {
        "id": "7fGIV0UNWav_"
      },
      "execution_count": null,
      "outputs": []
    },
    {
      "cell_type": "markdown",
      "source": [
        "Looks good!"
      ],
      "metadata": {
        "id": "yOvv3YjoC8I6"
      }
    },
    {
      "cell_type": "markdown",
      "source": [
        "## 5. EDA\n",
        "\n",
        "EDA is an art and a science. There is not one right way to explore a dataset. Use your creativity and critical thinking to ask and answer questions, perhaps starting with some QA and then increasingly focusing on the target variable and possible predictors.\n",
        "\n",
        "Let's assume for now that the target variable for this project will be `transactionRevenue`.\n",
        "\n",
        "It can be helpful at the beginning of the EDA process to list a set of questions to be investigated. \n",
        "\n",
        "- what is the distribution of `transactionRevenue`?\n",
        "- are there invariant columns that should be removed?\n",
        "- what is the scope of missing data?\n",
        "- are there daily patterns of site visits?\n",
        "- are certain devices more correlated with purchasing than others?\n",
        "\n",
        "Etc.\n",
        "\n"
      ],
      "metadata": {
        "id": "lR2ugW6UIq-P"
      }
    },
    {
      "cell_type": "markdown",
      "source": [
        "### Distribution of `transactionRevenue` "
      ],
      "metadata": {
        "id": "72wBvcwwffEW"
      }
    },
    {
      "cell_type": "code",
      "source": [
        "%R head(df$transactionRevenue, 1000)"
      ],
      "metadata": {
        "id": "MafsyHItfmVu"
      },
      "execution_count": null,
      "outputs": []
    },
    {
      "cell_type": "markdown",
      "source": [
        "Clearly, a session that did not result in a purchase is coded `NaN`.  That should be recoded as 0 and the amount of the purchase should be returned to a legible number by dividing by 10^6. While we're at it, we will copy this column and shorten the name."
      ],
      "metadata": {
        "id": "A2CQLZ63hobc"
      }
    },
    {
      "cell_type": "code",
      "source": [
        "%%R \n",
        "\n",
        "df <- df %>% \n",
        "mutate(rev = transactionRevenue,\n",
        "       rev = rev/10^6,\n",
        "       rev = replace_na(rev, 0))"
      ],
      "metadata": {
        "id": "p7ZEI8v7h_B1"
      },
      "execution_count": 28,
      "outputs": []
    },
    {
      "cell_type": "code",
      "source": [
        "%R head(df$rev, 1000)"
      ],
      "metadata": {
        "id": "SUqXxYOPjNND"
      },
      "execution_count": null,
      "outputs": []
    },
    {
      "cell_type": "markdown",
      "source": [
        "What is the percentage of visits that result in purchases?"
      ],
      "metadata": {
        "id": "LJJrEP1hj_Nr"
      }
    },
    {
      "cell_type": "code",
      "source": [
        "%R sum(df$rev > 0)/nrow(df)*100"
      ],
      "metadata": {
        "id": "9nDFr01AjtYK"
      },
      "execution_count": null,
      "outputs": []
    },
    {
      "cell_type": "markdown",
      "source": [
        "How many purchases is that exactly?"
      ],
      "metadata": {
        "id": "-5fezhTLmpRX"
      }
    },
    {
      "cell_type": "code",
      "source": [
        "%R sum(df$rev > 0)"
      ],
      "metadata": {
        "id": "GV8kgDABmsmK"
      },
      "execution_count": null,
      "outputs": []
    },
    {
      "cell_type": "markdown",
      "source": [
        "Hmmm. Not many. 169 out of 18,704 visits.\n",
        "\n",
        "What is the distribution of purchases?"
      ],
      "metadata": {
        "id": "X909AMFClRDg"
      }
    },
    {
      "cell_type": "code",
      "source": [
        "%%R\n",
        "\n",
        "df %>%\n",
        "filter(rev > 0) %>%\n",
        "ggplot(aes(rev)) +\n",
        "geom_histogram() +\n",
        "labs(title = \"Distribution of purchase amounts\") +\n",
        "theme_minimal()\n"
      ],
      "metadata": {
        "id": "cgpCB3Azlob2"
      },
      "execution_count": null,
      "outputs": []
    },
    {
      "cell_type": "code",
      "source": [
        "%%R\n",
        "\n",
        "df %>%\n",
        "filter(rev > 0) %>%\n",
        "select(rev) %>%\n",
        "summary\n"
      ],
      "metadata": {
        "id": "fES6TTw6ndu1"
      },
      "execution_count": null,
      "outputs": []
    },
    {
      "cell_type": "markdown",
      "source": [
        "Long right tail. \n",
        "\n",
        "Log normal? Looks like it:"
      ],
      "metadata": {
        "id": "hsJ2UH5slcZ_"
      }
    },
    {
      "cell_type": "code",
      "source": [
        "%%R\n",
        "\n",
        "df %>%\n",
        "filter(rev > 0) %>%\n",
        "ggplot(aes(log(rev))) +\n",
        "geom_histogram() +\n",
        "labs(title = \"Distribution of log purchase amounts\") +\n",
        "theme_minimal()"
      ],
      "metadata": {
        "id": "y2NgpVGHnzFj"
      },
      "execution_count": null,
      "outputs": []
    },
    {
      "cell_type": "markdown",
      "source": [
        "### Identify and remove invariant columns\n",
        "\n"
      ],
      "metadata": {
        "id": "Cg9X-JMJoI76"
      }
    },
    {
      "cell_type": "code",
      "source": [
        "%%R \n",
        "\n",
        "apply(df, 2, n_distinct)"
      ],
      "metadata": {
        "colab": {
          "base_uri": "https://localhost:8080/"
        },
        "id": "vPx3CRwnocBj",
        "outputId": "6a7960df-a8af-43ab-9e9f-7ba8de8f6c95"
      },
      "execution_count": 47,
      "outputs": [
        {
          "output_type": "stream",
          "name": "stdout",
          "text": [
            "          fullVisitorId                 visitId                    date \n",
            "                  16230                   18381                       8 \n",
            "                browser         operatingSystem                isMobile \n",
            "                     27                      14                       2 \n",
            "         deviceCategory                    hits               pageviews \n",
            "                      3                     150                     110 \n",
            "             timeOnSite                 bounces            transactions \n",
            "                   1430                       2                       3 \n",
            "     transactionRevenue               newVisits totalTransactionRevenue \n",
            "                    154                       2                     165 \n",
            "        channelGrouping                     rev \n",
            "                      7                     154 \n"
          ]
        }
      ]
    },
    {
      "cell_type": "code",
      "source": [
        "%%R \n",
        "\n",
        "apply(df, 2, n_distinct) > 1"
      ],
      "metadata": {
        "colab": {
          "base_uri": "https://localhost:8080/"
        },
        "id": "knSJjQ4i9Xdl",
        "outputId": "f7a10441-ac5e-4a4a-be8c-2663ba3da99b"
      },
      "execution_count": 46,
      "outputs": [
        {
          "output_type": "stream",
          "name": "stdout",
          "text": [
            "          fullVisitorId                 visitId                    date \n",
            "                   TRUE                    TRUE                    TRUE \n",
            "                browser         operatingSystem                isMobile \n",
            "                   TRUE                    TRUE                    TRUE \n",
            "         deviceCategory                    hits               pageviews \n",
            "                   TRUE                    TRUE                    TRUE \n",
            "             timeOnSite                 bounces            transactions \n",
            "                   TRUE                    TRUE                    TRUE \n",
            "     transactionRevenue               newVisits totalTransactionRevenue \n",
            "                   TRUE                    TRUE                    TRUE \n",
            "        channelGrouping                     rev \n",
            "                   TRUE                    TRUE \n"
          ]
        }
      ]
    },
    {
      "cell_type": "markdown",
      "source": [
        "No use this boolean to select columns."
      ],
      "metadata": {
        "id": "O6oVUG2w9gK5"
      }
    },
    {
      "cell_type": "code",
      "source": [
        "%%R\n",
        "\n",
        "df <- df %>%\n",
        "select_if(apply(df, 2, n_distinct) >1)"
      ],
      "metadata": {
        "id": "ovIVblYM9ncO"
      },
      "execution_count": 40,
      "outputs": []
    },
    {
      "cell_type": "markdown",
      "source": [
        "### What is the scope of missing data?"
      ],
      "metadata": {
        "id": "0_64rSLTATK6"
      }
    },
    {
      "cell_type": "code",
      "source": [
        "%%R \n",
        "\n",
        "summary(df)"
      ],
      "metadata": {
        "colab": {
          "base_uri": "https://localhost:8080/"
        },
        "id": "a-9_kch_98UH",
        "outputId": "3354c5a8-7466-4dfa-a5c5-4a244ad430e4"
      },
      "execution_count": 45,
      "outputs": [
        {
          "output_type": "stream",
          "name": "stdout",
          "text": [
            " fullVisitorId         visitId              date             browser         \n",
            " Length:18704       Min.   :1.470e+09   Length:18704       Length:18704      \n",
            " Class :character   1st Qu.:1.470e+09   Class :character   Class :character  \n",
            " Mode  :character   Median :1.470e+09   Mode  :character   Mode  :character  \n",
            "                    Mean   :1.470e+09                                        \n",
            "                    3rd Qu.:1.471e+09                                        \n",
            "                    Max.   :1.471e+09                                        \n",
            "                                                                             \n",
            " operatingSystem     isMobile       deviceCategory          hits        \n",
            " Length:18704       Mode :logical   Length:18704       Min.   :  1.000  \n",
            " Class :character   FALSE:15230     Class :character   1st Qu.:  1.000  \n",
            " Mode  :character   TRUE :3474      Mode  :character   Median :  2.000  \n",
            "                                                       Mean   :  6.137  \n",
            "                                                       3rd Qu.:  6.000  \n",
            "                                                       Max.   :301.000  \n",
            "                                                                        \n",
            "   pageviews         timeOnSite        bounces      transactions  \n",
            " Min.   :  1.000   Min.   :   1.0   Min.   :1      Min.   :1.000  \n",
            " 1st Qu.:  1.000   1st Qu.:  41.0   1st Qu.:1      1st Qu.:1.000  \n",
            " Median :  2.000   Median :  95.0   Median :1      Median :1.000  \n",
            " Mean   :  4.792   Mean   : 280.3   Mean   :1      Mean   :1.018  \n",
            " 3rd Qu.:  5.000   3rd Qu.: 285.0   3rd Qu.:1      3rd Qu.:1.000  \n",
            " Max.   :183.000   Max.   :7508.0   Max.   :1      Max.   :2.000  \n",
            " NA's   :3         NA's   :8998     NA's   :9733   NA's   :18534  \n",
            " transactionRevenue    newVisits    totalTransactionRevenue channelGrouping   \n",
            " Min.   :1.200e+06   Min.   :1      Min.   :6.200e+06       Length:18704      \n",
            " 1st Qu.:2.718e+07   1st Qu.:1      1st Qu.:3.033e+07       Class :character  \n",
            " Median :5.838e+07   Median :1      Median :6.472e+07       Mode  :character  \n",
            " Mean   :1.410e+08   Mean   :1      Mean   :1.460e+08                         \n",
            " 3rd Qu.:1.128e+08   3rd Qu.:1      3rd Qu.:1.189e+08                         \n",
            " Max.   :2.211e+09   Max.   :1      Max.   :2.213e+09                         \n",
            " NA's   :18535       NA's   :3965   NA's   :18535                             \n",
            "      rev          \n",
            " Min.   :   0.000  \n",
            " 1st Qu.:   0.000  \n",
            " Median :   0.000  \n",
            " Mean   :   1.274  \n",
            " 3rd Qu.:   0.000  \n",
            " Max.   :2211.380  \n",
            "                   \n"
          ]
        }
      ]
    },
    {
      "cell_type": "markdown",
      "source": [
        "### Are purchases more likely with mobile?\n",
        "\n",
        "No, not really:"
      ],
      "metadata": {
        "id": "6eK_pN5eAbcM"
      }
    },
    {
      "cell_type": "code",
      "source": [
        "%%R\n",
        "\n",
        "df %>% \n",
        "group_by(isMobile) %>%\n",
        "summarize(prop_purchase = sum(rev > 0)/n())"
      ],
      "metadata": {
        "colab": {
          "base_uri": "https://localhost:8080/"
        },
        "id": "vnmeIkz_AhX6",
        "outputId": "e65c7bb9-82c9-4003-9dc4-ac06eb3aed9d"
      },
      "execution_count": 50,
      "outputs": [
        {
          "output_type": "stream",
          "name": "stdout",
          "text": [
            "# A tibble: 2 × 2\n",
            "  isMobile prop_purchase\n",
            "  <lgl>            <dbl>\n",
            "1 FALSE          0.0104 \n",
            "2 TRUE           0.00288\n"
          ]
        }
      ]
    },
    {
      "cell_type": "markdown",
      "source": [
        "### Are purchases related to the channel?\n",
        "\n",
        "Referral, though small in absolute terms, accounts for the largest proportion of purchases. Mobile is only involved in organic search and direct."
      ],
      "metadata": {
        "id": "Cf8XBEZKBaNB"
      }
    },
    {
      "cell_type": "code",
      "source": [
        "%%R\n",
        "\n",
        "df %>% \n",
        "group_by(channelGrouping, isMobile) %>%\n",
        "summarize(prop_purchase = sum(rev > 0)/n()) %>%\n",
        "ggplot(aes(channelGrouping, prop_purchase, fill = isMobile)) +\n",
        "geom_col(position = \"dodge\") +\n",
        "theme(axis.text.x = element_text(angle = 45, vjust = 1, hjust=1))"
      ],
      "metadata": {
        "colab": {
          "base_uri": "https://localhost:8080/",
          "height": 533
        },
        "id": "DrrRv4LFBSJT",
        "outputId": "2a235b18-7869-4131-8dbe-906f4db591f1"
      },
      "execution_count": 56,
      "outputs": [
        {
          "output_type": "stream",
          "name": "stdout",
          "text": [
            "`summarise()` has grouped output by 'channelGrouping'. You can override using\n",
            "the `.groups` argument.\n"
          ]
        },
        {
          "output_type": "display_data",
          "data": {
            "image/png": "[encoded data removed]"
          },
          "metadata": {}
        }
      ]
    },
    {
      "cell_type": "markdown",
      "source": [
        "### What is the distribution of pageviews?"
      ],
      "metadata": {
        "id": "Ejmj16zPDsJv"
      }
    },
    {
      "cell_type": "code",
      "source": [
        "%%R \n",
        "\n",
        "df %>%\n",
        "ggplot(aes(pageviews)) +\n",
        "geom_histogram()\n"
      ],
      "metadata": {
        "colab": {
          "base_uri": "https://localhost:8080/",
          "height": 553
        },
        "id": "-wopnDr9DyHe",
        "outputId": "cb1c1f9a-dbf0-4af8-b1d3-014a3dd6ebff"
      },
      "execution_count": 57,
      "outputs": [
        {
          "output_type": "stream",
          "name": "stderr",
          "text": [
            "WARNING:rpy2.rinterface_lib.callbacks:R[write to console]: `stat_bin()` using `bins = 30`. Pick better value with `binwidth`.\n",
            "\n"
          ]
        },
        {
          "output_type": "display_data",
          "data": {
            "image/png": "[encoded data removed]"
          },
          "metadata": {}
        }
      ]
    },
    {
      "cell_type": "markdown",
      "source": [
        "Related to purchasing? Specifically does the proportion of purchases go up with bucketed page views?"
      ],
      "metadata": {
        "id": "T2KQw7jfEwwe"
      }
    },
    {
      "cell_type": "code",
      "source": [
        "%%R \n",
        "\n",
        "df %>%\n",
        "filter(pageviews > 1) %>%\n",
        "mutate(pageview_bins = cut(pageviews, 15)) %>%\n",
        "group_by(pageview_bins) %>%\n",
        "summarize(prop_purchase = sum(rev > 0)/n(),\n",
        "          n()) "
      ],
      "metadata": {
        "id": "Q9Lkp-8qEWEA"
      },
      "execution_count": null,
      "outputs": []
    }
  ]
}