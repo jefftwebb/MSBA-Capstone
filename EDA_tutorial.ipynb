{
  "nbformat": 4,
  "nbformat_minor": 0,
  "metadata": {
    "colab": {
      "provenance": [],
      "toc_visible": true,
      "authorship_tag": "ABX9TyOJJqK8uHcw7mikQbTumftc",
      "include_colab_link": true
    },
    "kernelspec": {
      "name": "python3",
      "display_name": "Python 3"
    },
    "language_info": {
      "name": "python"
    }
  },
  "cells": [
    {
      "cell_type": "markdown",
      "metadata": {
        "id": "view-in-github",
        "colab_type": "text"
      },
      "source": [
        "<a href=\"https://colab.research.google.com/github/jefftwebb/MSBA-Capstone/blob/main/EDA_tutorial.ipynb\" target=\"_parent\"><img src=\"https://colab.research.google.com/assets/colab-badge.svg\" alt=\"Open In Colab\"/></a>"
      ]
    },
    {
      "cell_type": "markdown",
      "source": [
        "# EDA with  SQL, Python and R in Google Colab\n",
        "\n"
      ],
      "metadata": {
        "id": "XBqPsLAh1g-m"
      }
    },
    {
      "cell_type": "markdown",
      "source": [
        "# 1. Connect to BigQuery, format table display and load R extension.\n",
        "\n",
        "This interactive authentication requires that you have a google account."
      ],
      "metadata": {
        "id": "SvFjll-dIgbY"
      }
    },
    {
      "cell_type": "code",
      "execution_count": 12,
      "metadata": {
        "id": "-Aj9nAb4IURd"
      },
      "outputs": [],
      "source": [
        "from google.colab import auth\n",
        "auth.authenticate_user()"
      ]
    },
    {
      "cell_type": "markdown",
      "source": [
        "Using Data Table makes it more convenient to navigate tables within the notebook."
      ],
      "metadata": {
        "id": "zKfKY0MLtOW8"
      }
    },
    {
      "cell_type": "code",
      "source": [
        "from google.colab import data_table\n",
        "data_table.enable_dataframe_formatter()"
      ],
      "metadata": {
        "id": "avYmejO8q3yx"
      },
      "execution_count": null,
      "outputs": []
    },
    {
      "cell_type": "markdown",
      "source": [
        " The rpy2 package allows us to write R code."
      ],
      "metadata": {
        "id": "349K6vuzsKrr"
      }
    },
    {
      "cell_type": "code",
      "source": [
        "%load_ext rpy2.ipython\n"
      ],
      "metadata": {
        "id": "NyVxMGtkRouf"
      },
      "execution_count": 5,
      "outputs": []
    },
    {
      "cell_type": "markdown",
      "source": [
        "# 2. Magic commands to write SQL and R code\n",
        "\n",
        "Google colab is a web hosted version of a jupityr notebook. Project jupityr started in 2014 with the goal of making  ipython notebooks language agnostic.  Hence jupityr, which stands for \"Julia,\" \"Python,\" and \"R.\" In google colab we can write code chunks in a variety of programming languages in addition to the native Python via the so-called \"magic commands.\""
      ],
      "metadata": {
        "id": "sRV0St9lSkcm"
      }
    },
    {
      "cell_type": "markdown",
      "source": [
        "First: what are magic commands? "
      ],
      "metadata": {
        "id": "PFoZiK0AH3SX"
      }
    },
    {
      "cell_type": "code",
      "source": [
        "%magic"
      ],
      "metadata": {
        "id": "sdmFGMPlGukJ"
      },
      "execution_count": 8,
      "outputs": []
    },
    {
      "cell_type": "markdown",
      "source": [
        "Which ones are available?"
      ],
      "metadata": {
        "id": "l1NFw8j3KiAy"
      }
    },
    {
      "cell_type": "code",
      "source": [
        "%lsmagic"
      ],
      "metadata": {
        "id": "VV6qCarqHYLd"
      },
      "execution_count": null,
      "outputs": []
    },
    {
      "cell_type": "markdown",
      "source": [
        "Notice that there are two levels of magic commands:\n",
        "\n",
        "- %% affects the entire cell; \n",
        "- % affects an individual line.\n",
        "\n",
        "In this tutorial we'll be using bigquery magics (to write SQL against tables in bigquery) and R magics (to write R code).\n",
        "\n",
        "For example, the following cell uses %%bigquery to query the google analytics public dataset, storing the result in a pandas dataframe (the default format in .ipynb) defined in the cell magic statement as \"df.\" **In the code below you will need to replace \"project-id\" with your own GCP project ID.**\n",
        "\n",
        "Here for illustration we return 10 rows from the entire dataset for Aug 1, 2017."
      ],
      "metadata": {
        "id": "drYbB7bVHayQ"
      }
    },
    {
      "cell_type": "code",
      "source": [
        "%%bigquery --project project-id df\n",
        "\n",
        "SELECT * FROM bigquery-public-data.google_analytics_sample.ga_sessions_20170801\n",
        "limit 10\n",
        "\n"
      ],
      "metadata": {
        "id": "xvMfRKYSLhnq"
      },
      "execution_count": 13,
      "outputs": []
    },
    {
      "cell_type": "code",
      "source": [
        "type(df)"
      ],
      "metadata": {
        "id": "qbXDx4Io3Gdi"
      },
      "execution_count": null,
      "outputs": []
    },
    {
      "cell_type": "code",
      "source": [
        "df.shape"
      ],
      "metadata": {
        "id": "WFSPa9P95_7v"
      },
      "execution_count": null,
      "outputs": []
    },
    {
      "cell_type": "code",
      "source": [
        "df.info()\n"
      ],
      "metadata": {
        "id": "RMQGuseA2v_E"
      },
      "execution_count": null,
      "outputs": []
    },
    {
      "cell_type": "code",
      "source": [
        "df.head()"
      ],
      "metadata": {
        "id": "g_ant7tnJ1wL"
      },
      "execution_count": null,
      "outputs": []
    },
    {
      "cell_type": "markdown",
      "source": [
        "The arrays from BigQuery have been brought into a pandas dataframe as what appear to be JSON columns. These include: totals, trafficSource, device, geoNetwork, and hits.\n",
        "\n",
        "I prefer to do EDA in R, so my ultimate goal is to produce a rectangular dataset that can be read into R for data exploration. However R will not accept the JSON columns (which it interprets as python dicts). To prepare for EDA in R  let's go back and revise the initial query to flatten the dataset (as well as to pull in more dates) with one row per visit."
      ],
      "metadata": {
        "id": "YzK2oE7I5kCG"
      }
    },
    {
      "cell_type": "markdown",
      "source": [
        "# 3. Flatten Data\n",
        "\n",
        "For reference, here is a detailed [data dictionary](https://support.google.com/analytics/answer/3437719?hl=en&ref_topic=3416089).\n",
        "\n",
        "You will most likely want to create different tables as you explore different ideas during EDA.\n",
        "\n",
        "For this exercise, we will focus on a few tables and bring in a month's worth of data. (The query is somewhat time-consuming.) The goal is to create a table without nested data, featuring just one row per session. Note that this will entail avoiding the `hits` and `product` tables since unnesting those will generate multiple rows per session--equivalent to a mutating join. \n",
        "\n"
      ],
      "metadata": {
        "id": "dx7o3b--7xDK"
      }
    },
    {
      "cell_type": "code",
      "source": [
        "%%bigquery --project project-id df \n",
        "\n",
        "SELECT fullVisitorId, visitId, date,  device.*, totals.*, channelGrouping\n",
        "FROM `bigquery-public-data.google_analytics_sample.ga_sessions_*`\n",
        "WHERE _TABLE_SUFFIX BETWEEN '20160801' AND '20160831'\n",
        "\n"
      ],
      "metadata": {
        "id": "mB4Rke3HXATc"
      },
      "execution_count": 2,
      "outputs": []
    },
    {
      "cell_type": "code",
      "source": [
        "df.shape"
      ],
      "metadata": {
        "id": "PuKJTkFhSfK4"
      },
      "execution_count": null,
      "outputs": []
    },
    {
      "cell_type": "code",
      "source": [
        "df.columns"
      ],
      "metadata": {
        "id": "i1mu2ckwTRY2"
      },
      "execution_count": null,
      "outputs": []
    },
    {
      "cell_type": "markdown",
      "source": [
        "# 4. Import Data into R"
      ],
      "metadata": {
        "id": "IbUcg-eBVY7l"
      }
    },
    {
      "cell_type": "markdown",
      "source": [
        "We have already loaded the rpy2 package so we can now use R magic commands to load the df dataset into R. (-i stands for \"input.\")"
      ],
      "metadata": {
        "id": "lkhbb3BNCY8k"
      }
    },
    {
      "cell_type": "code",
      "source": [
        "%R -i df"
      ],
      "metadata": {
        "id": "7TevMcoSXW0n"
      },
      "execution_count": 6,
      "outputs": []
    },
    {
      "cell_type": "markdown",
      "source": [
        "Load the tidyverse as well as other any other packages you would like to use. Note that you will need to install packages first. \n",
        "\n"
      ],
      "metadata": {
        "id": "fSoBKmGbWJWR"
      }
    },
    {
      "cell_type": "code",
      "source": [
        "%%R \n",
        "library(tidyverse)\n"
      ],
      "metadata": {
        "id": "XO-g5cM--6Kx"
      },
      "execution_count": null,
      "outputs": []
    },
    {
      "cell_type": "markdown",
      "source": [
        "Inspect the data."
      ],
      "metadata": {
        "id": "GQhfAU7BWW2A"
      }
    },
    {
      "cell_type": "code",
      "source": [
        "%R str(df)"
      ],
      "metadata": {
        "id": "7fGIV0UNWav_"
      },
      "execution_count": null,
      "outputs": []
    },
    {
      "cell_type": "markdown",
      "source": [
        "Looks good!"
      ],
      "metadata": {
        "id": "yOvv3YjoC8I6"
      }
    },
    {
      "cell_type": "markdown",
      "source": [
        "# 5. EDA\n",
        "\n",
        "EDA is an art and a science. There is no one right way to explore a dataset. Use your creativity and critical thinking to ask and answer questions, based on your knowledge of the business problem and business context, perhaps starting with some QA and then increasingly focusing on the target variable and possible predictors.\n",
        "\n",
        "Let's assume for now that the target variable for this project will be `transactionRevenue`.\n",
        "\n",
        "It can be helpful at the beginning of the EDA process to list a set of questions to be investigated. \n",
        "\n",
        "**First**, evaluate the *quality* of the data by asking and answering these sorts of questions:\n",
        "\n",
        "- Is the grain of the data as expected given the query? Here we are focusing on the `totals` table so there should be one row per session.  (The number of unique session IDs should equal the number of rows.) (How would this change if we brought in data recorded at the sub-session level, for example from the hits table?)\n",
        "- What is the distribution of sessions across visitors?\n",
        "- What is the scope of missing data? \n",
        "- What is the meaning of missing data?  Can NAs be replaced with meaningful quantities based on the data dictionary or (our understanding of) the data collection process?\n",
        "- Is the daily frequency of visits as expected, or are there anomalies that need further investigation? \n",
        "- Is the range of the variables resonable or do there appear to be mistakes? In particular, given the definition of a visit do the distributions of variables like visits, hits, pageViews and bounces make logical sense?\n",
        "- Are there columns without any (or with very little) variation? (If so, we will want to remove them, as they contain little or no information.) \n",
        "\n",
        "Bottom line:  you want to make sure that you understand the structure and quality of the data so that your results mean what you think they mean. (Nothing worse than having someone point out in a presentation that your great insight was the result of misunderstanding the data....)\n",
        "\n",
        "**Second**, examine the univariate distributions of the important variables, still keeping an eye out for anomolies and problems but also considering possible transformations such as binning numeric distributions and log transforming skewed variables. In particular:\n",
        "\n",
        "- What is the distribution of `transactionRevenue`? In particular: Skewed? Zero-inflated? How rare is purchasing?\n",
        "\n",
        "**Third**, look at relationships involving the target, especially considering possible interactions.  The purpose here is to do informal modeling via exploratory analysis in preparation for confirmatory analysis later on. At this stage you want to explore hypotheses about why people decide to buy, or about the process that leads to buying. For example:\n",
        "\n",
        "- Are page views correlated with transactions?\n",
        "- Does the relationship between page views and transactions differ by day of week or by channel or device?\n",
        "\n",
        "There are a large number of possible questions at this third stage, constrained only by your creativity. Very likely, asking and answering a question will engender further exploration.  The process may feel a little bit like looking for a needle in a haystack, but you can limit the questions by thinking about possible drivers of purchasing. For example, a large number of page views suggests that a customer is looking for something, and might therefore be more likely to purchase. At this stage, also, you may think of questions that would require new or different data to answer. Get creative about engineering new features to answer such questions. \n"
      ],
      "metadata": {
        "id": "lR2ugW6UIq-P"
      }
    },
    {
      "cell_type": "markdown",
      "source": [
        "# Example EDA\n",
        "\n",
        "The goal here is to give you some examples to work from, and to model the process. The exploration and cleaning below is just a tiny subset of what would need to happen in an actual project. "
      ],
      "metadata": {
        "id": "OWy7DqYpAYcR"
      }
    },
    {
      "cell_type": "markdown",
      "source": [
        "## Grain of the data.  One row per visit?"
      ],
      "metadata": {
        "id": "V08dxU3fB3YZ"
      }
    },
    {
      "cell_type": "code",
      "source": [
        "%%R\n",
        "\n",
        "df$visitId |> unique() |> length()"
      ],
      "metadata": {
        "id": "RXwa62bwB9Ca"
      },
      "execution_count": null,
      "outputs": []
    },
    {
      "cell_type": "code",
      "source": [
        "%%R\n",
        "\n",
        "df |> nrow()"
      ],
      "metadata": {
        "id": "zNxAOkCDDCJv"
      },
      "execution_count": null,
      "outputs": []
    },
    {
      "cell_type": "markdown",
      "source": [
        "Not the same.  Arrgh! Row-by-row exploration will be required to understand what is going on."
      ],
      "metadata": {
        "id": "4Cl6mhNhDUrj"
      }
    },
    {
      "cell_type": "code",
      "source": [
        "%%R \n",
        "\n",
        "which(duplicated(df$visitId))[1]"
      ],
      "metadata": {
        "id": "Z7chapHfDYHq"
      },
      "execution_count": null,
      "outputs": []
    },
    {
      "cell_type": "code",
      "source": [
        "%R df[107, ]"
      ],
      "metadata": {
        "id": "dkeFOYIvQZH-"
      },
      "execution_count": null,
      "outputs": []
    },
    {
      "cell_type": "code",
      "source": [
        "%%R\n",
        "\n",
        "df |> filter(visitId == 1470499213)"
      ],
      "metadata": {
        "id": "ZcfZ7s6NQmyN"
      },
      "execution_count": null,
      "outputs": []
    },
    {
      "cell_type": "markdown",
      "source": [
        "Interesting!  `visitId` is not unique.  However, we can create a unique ID by combining it with `fullVisitorId` and `date` (since a single session is recorded twice by Google Anaytics if it happens to span the change in date from 11:59 PM to 12:00 AM)."
      ],
      "metadata": {
        "id": "xYtp1Q6DQ31I"
      }
    },
    {
      "cell_type": "code",
      "source": [
        "%R df$uniqueId |> unique() |> length()"
      ],
      "metadata": {
        "id": "XmfMa9BmR1cL"
      },
      "execution_count": null,
      "outputs": []
    },
    {
      "cell_type": "markdown",
      "source": [
        "Now there is one row per unique visit.  \n",
        "\n",
        "It is worth noting that we could choose to treat a session that occurs over two days not as two sessions, as we've done, but as one session that is arbitrarily split by the clock. This is a data modeling decision, and as such is neither right nor wrong. Keep it in mind though, since we may want to revise it. "
      ],
      "metadata": {
        "id": "mnK3vrjiSNOV"
      }
    },
    {
      "cell_type": "markdown",
      "source": [
        "## Invariant columns?\n",
        "\n",
        "We will remove columns with no variation and leave columns with little (or near zero) variation alone for now.\n",
        "\n"
      ],
      "metadata": {
        "id": "Cg9X-JMJoI76"
      }
    },
    {
      "cell_type": "code",
      "source": [
        "%%R \n",
        "\n",
        "apply(df, 2, n_distinct)"
      ],
      "metadata": {
        "id": "vPx3CRwnocBj"
      },
      "execution_count": null,
      "outputs": []
    },
    {
      "cell_type": "markdown",
      "source": [
        "Yes, quite a few.  The removal strategy will be to transform the counts into a logical vector, which we can then use for filtering.  For example:"
      ],
      "metadata": {
        "id": "v_OaK6HTYuSk"
      }
    },
    {
      "cell_type": "code",
      "source": [
        "%%R \n",
        "\n",
        "apply(df, 2, n_distinct) > 1"
      ],
      "metadata": {
        "id": "knSJjQ4i9Xdl"
      },
      "execution_count": null,
      "outputs": []
    },
    {
      "cell_type": "markdown",
      "source": [
        "No use this boolean to select columns."
      ],
      "metadata": {
        "id": "O6oVUG2w9gK5"
      }
    },
    {
      "cell_type": "code",
      "source": [
        "%%R\n",
        "\n",
        "df <- df |>\n",
        "select_if(apply(df, 2, n_distinct) >1)"
      ],
      "metadata": {
        "id": "ovIVblYM9ncO"
      },
      "execution_count": 40,
      "outputs": []
    },
    {
      "cell_type": "code",
      "source": [
        "%%R\n",
        "\n",
        "glimpse(df)"
      ],
      "metadata": {
        "id": "bZ39pkRiZHPm"
      },
      "execution_count": null,
      "outputs": []
    },
    {
      "cell_type": "markdown",
      "source": [
        "## What is the distribution of `transactionRevenue`?"
      ],
      "metadata": {
        "id": "72wBvcwwffEW"
      }
    },
    {
      "cell_type": "code",
      "source": [
        "%R head(df$transactionRevenue, 1000)"
      ],
      "metadata": {
        "id": "MafsyHItfmVu"
      },
      "execution_count": null,
      "outputs": []
    },
    {
      "cell_type": "markdown",
      "source": [
        "Clearly, a session that did not result in a purchase is coded `NaN`.  That should be recoded as 0 and the amount of the purchase should be returned to a legible number by dividing by 10^6. While we're at it, we will copy this column and shorten the name."
      ],
      "metadata": {
        "id": "A2CQLZ63hobc"
      }
    },
    {
      "cell_type": "code",
      "source": [
        "%%R \n",
        "\n",
        "df <- df |> \n",
        "mutate(rev = transactionRevenue,\n",
        "       rev = rev/10^6,\n",
        "       rev = replace_na(rev, 0))"
      ],
      "metadata": {
        "id": "p7ZEI8v7h_B1"
      },
      "execution_count": 48,
      "outputs": []
    },
    {
      "cell_type": "code",
      "source": [
        "%R head(df$rev, 1000)"
      ],
      "metadata": {
        "id": "SUqXxYOPjNND"
      },
      "execution_count": null,
      "outputs": []
    },
    {
      "cell_type": "markdown",
      "source": [
        "Let's visualize the distribution."
      ],
      "metadata": {
        "id": "SEjxXybPb4ev"
      }
    },
    {
      "cell_type": "code",
      "source": [
        "%%R\n",
        "\n",
        "df |>\n",
        "ggplot(aes(rev)) +\n",
        "geom_histogram() +\n",
        "labs(title = \"Distribution of purchase amounts\") +\n",
        "theme_minimal()\n"
      ],
      "metadata": {
        "id": "cgpCB3Azlob2"
      },
      "execution_count": null,
      "outputs": []
    },
    {
      "cell_type": "markdown",
      "source": [
        "`transactionRevenue` is zero inflated.  Let's take a look at just the distribution of purchases."
      ],
      "metadata": {
        "id": "GeLlJsVzcEA-"
      }
    },
    {
      "cell_type": "code",
      "source": [
        "%%R\n",
        "\n",
        "df |>\n",
        "filter(rev > 0) |>\n",
        "ggplot(aes(rev)) +\n",
        "geom_histogram() +\n",
        "labs(title = \"Distribution of purchase amounts\") +\n",
        "theme_minimal()"
      ],
      "metadata": {
        "id": "yCWe7eymcWsN"
      },
      "execution_count": null,
      "outputs": []
    },
    {
      "cell_type": "code",
      "source": [
        "%%R\n",
        "\n",
        "df %>%\n",
        "filter(rev > 0) %>%\n",
        "select(rev) %>%\n",
        "summary\n"
      ],
      "metadata": {
        "id": "fES6TTw6ndu1"
      },
      "execution_count": null,
      "outputs": []
    },
    {
      "cell_type": "markdown",
      "source": [
        "Long right tail. Log normal? Looks like it:"
      ],
      "metadata": {
        "id": "hsJ2UH5slcZ_"
      }
    },
    {
      "cell_type": "code",
      "source": [
        "%%R\n",
        "\n",
        "df |>\n",
        "filter(rev > 0) |>\n",
        "ggplot(aes(log(rev))) +\n",
        "geom_histogram() +\n",
        "labs(title = \"Distribution of log purchase amounts\") +\n",
        "theme_minimal()"
      ],
      "metadata": {
        "id": "y2NgpVGHnzFj"
      },
      "execution_count": null,
      "outputs": []
    },
    {
      "cell_type": "markdown",
      "source": [
        "We may need to log transform `transactionRevenue`, depending on the algorithm used for modeling."
      ],
      "metadata": {
        "id": "VNLrOU0Hcqoc"
      }
    },
    {
      "cell_type": "markdown",
      "source": [
        "## What is the distribution of pageviews?"
      ],
      "metadata": {
        "id": "Ejmj16zPDsJv"
      }
    },
    {
      "cell_type": "code",
      "source": [
        "%%R \n",
        "\n",
        "ggplot(df, aes(pageviews)) +\n",
        "geom_histogram()\n"
      ],
      "metadata": {
        "id": "-wopnDr9DyHe"
      },
      "execution_count": null,
      "outputs": []
    },
    {
      "cell_type": "markdown",
      "source": [
        "## Are pageviews related to purchasing? \n",
        "\n",
        "Specifically does the proportion of purchases go up with `pageviews`? Our strategy will be to bin `pageviews` and calculate the purchase rate in the bins.  (Binning, incidentally, is generally very useful for visualization and modeling.) \n",
        "\n",
        "Two dpyr functions are helpful to create bins:  `cut_interval()` and `cut_number()`.\n",
        "\n",
        "`cut_interval()` attempts to make the bin widths the same."
      ],
      "metadata": {
        "id": "T2KQw7jfEwwe"
      }
    },
    {
      "cell_type": "code",
      "source": [
        "%%R \n",
        "\n",
        "df |>\n",
        "filter(pageviews > 1) |>\n",
        "mutate(pageview_bins = cut_interval(pageviews, 3)) |>\n",
        "group_by(pageview_bins) |>\n",
        "summarize(purchase_rate = sum(rev > 0)/n(),\n",
        "          median_purchase = median(rev[rev > 0]), # this is median purchase excluding 0s\n",
        "          n()) "
      ],
      "metadata": {
        "id": "Q9Lkp-8qEWEA"
      },
      "execution_count": null,
      "outputs": []
    },
    {
      "cell_type": "markdown",
      "source": [
        "`cut_number()` attempts to put the same number of observations in each bin."
      ],
      "metadata": {
        "id": "B3z_biqkfkcu"
      }
    },
    {
      "cell_type": "code",
      "source": [
        "%%R \n",
        "\n",
        "df |>\n",
        "filter(pageviews > 1) |>\n",
        "mutate(pageview_bins = cut_number(pageviews,3)) |>\n",
        "group_by(pageview_bins) |>\n",
        "summarize(purchase_rate = sum(rev > 0)/n(),\n",
        "          median_spent = median(rev[rev > 0]),\n",
        "          n()) "
      ],
      "metadata": {
        "id": "agc7tt8ceS6Z"
      },
      "execution_count": null,
      "outputs": []
    },
    {
      "cell_type": "markdown",
      "source": [
        "There's clearly a relationship between pageviews and the purchase rate.\n",
        "\n",
        "Bins with equal numbers of customers work better in this case. But there is a bin number limitation imposed by the skewed distribution.  (This is because the [2,3] group is so large.) Let's drill down into that third bin to try to get a little more insight into the high `pageviews` group.\n",
        "\n"
      ],
      "metadata": {
        "id": "B80XBV_Xf5ZF"
      }
    },
    {
      "cell_type": "code",
      "source": [
        "%%R \n",
        "\n",
        "df |>\n",
        "filter(pageviews > 7) |>\n",
        "mutate(pageview_bins = cut_number(pageviews,5)) |>\n",
        "group_by(pageview_bins) |>\n",
        "summarize(purchase_rate = sum(rev > 0)/n(),\n",
        "          median_spent = median(rev[rev > 0]),\n",
        "          n()) "
      ],
      "metadata": {
        "id": "5ZK71Ov7hZaE"
      },
      "execution_count": null,
      "outputs": []
    },
    {
      "cell_type": "markdown",
      "source": [
        "Indeed, as `pageviews` go up so does the purchase rate. There also appears to be a relationship with the *size* of the purchase: the median amount spent tends to increase with `pageviews`."
      ],
      "metadata": {
        "id": "ZW0wD268hy1x"
      }
    },
    {
      "cell_type": "markdown",
      "source": [
        "## Is there an interaction between `pageviews` and `channelGrouping` in predicting `transactionRevenue`?"
      ],
      "metadata": {
        "id": "z5F9YcIZia0U"
      }
    },
    {
      "cell_type": "code",
      "source": [
        "%%R\n",
        "\n",
        "df |>\n",
        "filter(pageviews > 1, rev > 0) |>\n",
        "mutate(rev = log(rev),\n",
        "       views = log(pageviews)) |>\n",
        "ggplot(aes(views, rev, col = channelGrouping)) +\n",
        "geom_point() +\n",
        "geom_smooth(se = F, method = \"lm\")"
      ],
      "metadata": {
        "id": "p_HYCrLhk1M8"
      },
      "execution_count": null,
      "outputs": []
    },
    {
      "cell_type": "markdown",
      "source": [
        "Hmmm.  Hard to interpret--seems inconclusive.  Let's try using the bins from above.\n",
        "\n",
        "Here is the non-interaction plot first."
      ],
      "metadata": {
        "id": "uc4baAUFnqpv"
      }
    },
    {
      "cell_type": "code",
      "source": [
        "%%R\n",
        "\n",
        "df |>\n",
        "filter(pageviews > 7) |>\n",
        "mutate(pageview_bins = cut_number(pageviews,5)) |>\n",
        "group_by(pageview_bins) |>\n",
        "summarize(purchase_rate = sum(rev > 0)/n()) |>\n",
        "filter(purchase_rate > 0) |>\n",
        "ggplot(aes(pageview_bins, purchase_rate)) +\n",
        "geom_col() +\n",
        "labs(title = \"Purchase rate by pageviews\",\n",
        "     caption = \"Google Analytics data from the Google Merchandise Store. Data includes only pageviews > 7.\") +\n",
        "theme_minimal()"
      ],
      "metadata": {
        "id": "alBCSZDXqEuE"
      },
      "execution_count": null,
      "outputs": []
    },
    {
      "cell_type": "markdown",
      "source": [
        "The highest rate is about .27.\n",
        "\n",
        "Here is the plot with the `channelGrouping` interaction."
      ],
      "metadata": {
        "id": "FBsYuJzGqh3D"
      }
    },
    {
      "cell_type": "code",
      "source": [
        "%%R\n",
        "\n",
        "df |>\n",
        "filter(pageviews > 7) |>\n",
        "mutate(pageview_bins = cut_number(pageviews,5)) |>\n",
        "group_by(pageview_bins, channelGrouping) |>\n",
        "summarize(purchase_rate = sum(rev > 0)/n()) |>\n",
        "filter(purchase_rate > 0) |>\n",
        "ggplot(aes(pageview_bins, purchase_rate, fill = channelGrouping)) +\n",
        "geom_col(position = \"dodge\") +\n",
        "labs(title = \"Purchase rate by pageviews and channels\",\n",
        "     caption = \"Google Analytics data from the Google Merchandise Store. Data includes only pageviews > 7.\") +\n",
        "theme_minimal()"
      ],
      "metadata": {
        "id": "mVIPj-Z_oWU_"
      },
      "execution_count": null,
      "outputs": []
    },
    {
      "cell_type": "markdown",
      "source": [
        "Clearly the purchase rate for different levels of `pageviews` varies by channel."
      ],
      "metadata": {
        "id": "H1L7WTaSp29c"
      }
    },
    {
      "cell_type": "markdown",
      "source": [
        "# Additional Questions\n",
        "\n",
        "There are many.  Have at it."
      ],
      "metadata": {
        "id": "CemKkf4Kr095"
      }
    }
  ]
}