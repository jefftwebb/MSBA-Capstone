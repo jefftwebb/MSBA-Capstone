{
  "nbformat": 4,
  "nbformat_minor": 0,
  "metadata": {
    "colab": {
      "provenance": [],
      "authorship_tag": "ABX9TyMu/VwTNZXobJDLbDPaKllT",
      "include_colab_link": true
    },
    "kernelspec": {
      "name": "python3",
      "display_name": "Python 3"
    },
    "language_info": {
      "name": "python"
    }
  },
  "cells": [
    {
      "cell_type": "markdown",
      "metadata": {
        "id": "view-in-github",
        "colab_type": "text"
      },
      "source": [
        "<a href=\"https://colab.research.google.com/github/jefftwebb/MSBA-Capstone/blob/main/EDA_tutorial.ipynb\" target=\"_parent\"><img src=\"https://colab.research.google.com/assets/colab-badge.svg\" alt=\"Open In Colab\"/></a>"
      ]
    },
    {
      "cell_type": "markdown",
      "source": [
        "# EDA with  SQL, Python and R in Google Colab\n",
        "\n"
      ],
      "metadata": {
        "id": "XBqPsLAh1g-m"
      }
    },
    {
      "cell_type": "markdown",
      "source": [
        "# 1. Connect to BigQuery, format table display and load R extension.\n",
        "\n",
        "This interactive authentication requires that you have a google account."
      ],
      "metadata": {
        "id": "SvFjll-dIgbY"
      }
    },
    {
      "cell_type": "code",
      "execution_count": null,
      "metadata": {
        "id": "-Aj9nAb4IURd"
      },
      "outputs": [],
      "source": [
        "from google.colab import auth\n",
        "auth.authenticate_user()"
      ]
    },
    {
      "cell_type": "markdown",
      "source": [
        "Using Data Table makes it more convenient to navigate tables within the notebook."
      ],
      "metadata": {
        "id": "zKfKY0MLtOW8"
      }
    },
    {
      "cell_type": "code",
      "source": [
        "from google.colab import data_table\n",
        "data_table.enable_dataframe_formatter()"
      ],
      "metadata": {
        "id": "avYmejO8q3yx"
      },
      "execution_count": null,
      "outputs": []
    },
    {
      "cell_type": "markdown",
      "source": [
        " The rpy2 package allows us to write R code."
      ],
      "metadata": {
        "id": "349K6vuzsKrr"
      }
    },
    {
      "cell_type": "code",
      "source": [
        "%load_ext rpy2.ipython\n"
      ],
      "metadata": {
        "id": "NyVxMGtkRouf",
        "colab": {
          "base_uri": "https://localhost:8080/"
        },
        "outputId": "b7f2b777-cf7d-479a-c424-00bfe3c0658d"
      },
      "execution_count": null,
      "outputs": [
        {
          "output_type": "stream",
          "name": "stdout",
          "text": [
            "The rpy2.ipython extension is already loaded. To reload it, use:\n",
            "  %reload_ext rpy2.ipython\n"
          ]
        }
      ]
    },
    {
      "cell_type": "markdown",
      "source": [
        "# 2. Magic commands to write SQL and R code\n",
        "\n",
        "Google colab is a web hosted version of a jupityr notebook. Project jupityr started in 2014 with the goal of making  ipython notebooks language agnostic.  Hence jupityr, which stands for \"Julia,\" \"Python,\" and \"R.\" In google colab we can write code chunks in a variety of programming languages in addition to the native Python via the so-called \"magic commands.\""
      ],
      "metadata": {
        "id": "sRV0St9lSkcm"
      }
    },
    {
      "cell_type": "markdown",
      "source": [
        "First: what are magic commands? "
      ],
      "metadata": {
        "id": "PFoZiK0AH3SX"
      }
    },
    {
      "cell_type": "code",
      "source": [
        "%magic"
      ],
      "metadata": {
        "id": "sdmFGMPlGukJ"
      },
      "execution_count": null,
      "outputs": []
    },
    {
      "cell_type": "markdown",
      "source": [
        "Which ones are available? (The R magics only appear after you have loaded the `rpy2` extension.)"
      ],
      "metadata": {
        "id": "l1NFw8j3KiAy"
      }
    },
    {
      "cell_type": "code",
      "source": [
        "%lsmagic"
      ],
      "metadata": {
        "id": "VV6qCarqHYLd",
        "colab": {
          "base_uri": "https://localhost:8080/",
          "height": 321
        },
        "outputId": "a87cbe43-4bfa-4cae-aba4-425010f35162"
      },
      "execution_count": null,
      "outputs": [
        {
          "output_type": "execute_result",
          "data": {
            "text/plain": [
              "Available line magics:\n",
              "%R  %Rdevice  %Rget  %Rpull  %Rpush  %alias  %alias_magic  %autoawait  %autocall  %automagic  %autosave  %bookmark  %cat  %cd  %clear  %colors  %conda  %config  %connect_info  %cp  %debug  %dhist  %dirs  %doctest_mode  %ed  %edit  %env  %gui  %hist  %history  %killbgscripts  %ldir  %less  %lf  %lk  %ll  %load  %load_ext  %loadpy  %logoff  %logon  %logstart  %logstate  %logstop  %ls  %lsmagic  %lx  %macro  %magic  %man  %matplotlib  %mkdir  %more  %mv  %notebook  %page  %pastebin  %pdb  %pdef  %pdoc  %pfile  %pinfo  %pinfo2  %pip  %popd  %pprint  %precision  %prun  %psearch  %psource  %pushd  %pwd  %pycat  %pylab  %qtconsole  %quickref  %recall  %rehashx  %reload_ext  %rep  %rerun  %reset  %reset_selective  %rm  %rmdir  %run  %save  %sc  %set_env  %shell  %store  %sx  %system  %tb  %tensorflow_version  %time  %timeit  %unalias  %unload_ext  %who  %who_ls  %whos  %xdel  %xmode\n",
              "\n",
              "Available cell magics:\n",
              "%%!  %%HTML  %%R  %%SVG  %%bash  %%bigquery  %%capture  %%debug  %%file  %%html  %%javascript  %%js  %%latex  %%markdown  %%perl  %%prun  %%pypy  %%python  %%python2  %%python3  %%ruby  %%script  %%sh  %%shell  %%svg  %%sx  %%system  %%time  %%timeit  %%writefile\n",
              "\n",
              "Automagic is ON, % prefix IS NOT needed for line magics."
            ],
            "application/json": {
              "line": {
                "automagic": "AutoMagics",
                "autocall": "AutoMagics",
                "alias_magic": "BasicMagics",
                "lsmagic": "BasicMagics",
                "magic": "BasicMagics",
                "page": "BasicMagics",
                "pprint": "BasicMagics",
                "colors": "BasicMagics",
                "xmode": "BasicMagics",
                "quickref": "BasicMagics",
                "doctest_mode": "BasicMagics",
                "gui": "BasicMagics",
                "precision": "BasicMagics",
                "notebook": "BasicMagics",
                "save": "CodeMagics",
                "pastebin": "CodeMagics",
                "loadpy": "CodeMagics",
                "load": "CodeMagics",
                "edit": "KernelMagics",
                "config": "ConfigMagics",
                "prun": "ExecutionMagics",
                "pdb": "ExecutionMagics",
                "debug": "ExecutionMagics",
                "tb": "ExecutionMagics",
                "run": "ExecutionMagics",
                "timeit": "ExecutionMagics",
                "time": "ExecutionMagics",
                "macro": "ExecutionMagics",
                "load_ext": "ExtensionMagics",
                "unload_ext": "ExtensionMagics",
                "reload_ext": "ExtensionMagics",
                "history": "HistoryMagics",
                "recall": "HistoryMagics",
                "rerun": "HistoryMagics",
                "logstart": "LoggingMagics",
                "logstop": "LoggingMagics",
                "logoff": "LoggingMagics",
                "logon": "LoggingMagics",
                "logstate": "LoggingMagics",
                "pinfo": "NamespaceMagics",
                "pinfo2": "NamespaceMagics",
                "pdef": "NamespaceMagics",
                "pdoc": "NamespaceMagics",
                "psource": "NamespaceMagics",
                "pfile": "NamespaceMagics",
                "psearch": "NamespaceMagics",
                "who_ls": "NamespaceMagics",
                "who": "NamespaceMagics",
                "whos": "NamespaceMagics",
                "reset": "NamespaceMagics",
                "reset_selective": "NamespaceMagics",
                "xdel": "NamespaceMagics",
                "alias": "OSMagics",
                "unalias": "OSMagics",
                "rehashx": "OSMagics",
                "pwd": "OSMagics",
                "cd": "OSMagics",
                "env": "OSMagics",
                "set_env": "OSMagics",
                "pushd": "OSMagics",
                "popd": "OSMagics",
                "dirs": "OSMagics",
                "dhist": "OSMagics",
                "sc": "OSMagics",
                "sx": "OSMagics",
                "system": "OSMagics",
                "bookmark": "OSMagics",
                "pycat": "OSMagics",
                "pip": "Other",
                "conda": "PackagingMagics",
                "matplotlib": "PylabMagics",
                "pylab": "PylabMagics",
                "killbgscripts": "ScriptMagics",
                "autoawait": "AsyncMagics",
                "ed": "Other",
                "hist": "Other",
                "rep": "Other",
                "clear": "KernelMagics",
                "less": "KernelMagics",
                "more": "KernelMagics",
                "man": "KernelMagics",
                "connect_info": "KernelMagics",
                "qtconsole": "KernelMagics",
                "autosave": "KernelMagics",
                "mkdir": "Other",
                "rmdir": "Other",
                "mv": "Other",
                "rm": "Other",
                "cp": "Other",
                "cat": "Other",
                "ls": "Other",
                "ll": "Other",
                "lf": "Other",
                "lk": "Other",
                "ldir": "Other",
                "lx": "Other",
                "store": "StoreMagics",
                "shell": "Other",
                "tensorflow_version": "Other",
                "Rdevice": "RMagics",
                "Rpush": "RMagics",
                "Rpull": "RMagics",
                "Rget": "RMagics",
                "R": "RMagics"
              },
              "cell": {
                "js": "DisplayMagics",
                "javascript": "DisplayMagics",
                "latex": "DisplayMagics",
                "svg": "DisplayMagics",
                "html": "DisplayMagics",
                "markdown": "DisplayMagics",
                "prun": "ExecutionMagics",
                "debug": "ExecutionMagics",
                "timeit": "ExecutionMagics",
                "time": "ExecutionMagics",
                "capture": "ExecutionMagics",
                "sx": "OSMagics",
                "system": "OSMagics",
                "!": "OSMagics",
                "writefile": "OSMagics",
                "script": "ScriptMagics",
                "sh": "Other",
                "bash": "Other",
                "perl": "Other",
                "ruby": "Other",
                "python": "Other",
                "python2": "Other",
                "python3": "Other",
                "pypy": "Other",
                "SVG": "Other",
                "HTML": "Other",
                "file": "Other",
                "bigquery": "Other",
                "shell": "Other",
                "R": "RMagics"
              }
            }
          },
          "metadata": {},
          "execution_count": 4
        }
      ]
    },
    {
      "cell_type": "markdown",
      "source": [
        "Notice that there are two levels of magic commands:\n",
        "\n",
        "- %% affects the entire cell; \n",
        "- % affects an individual line.\n",
        "\n",
        "In this tutorial we'll be using bigquery magics (to write SQL against tables in bigquery) and R magics (to write R code).\n",
        "\n",
        "For example, the following cell uses %%bigquery to query the google analytics public dataset, storing the result in a pandas dataframe (the default format in .ipynb) defined in the cell magic statement as \"df.\" **In the code chunks below you will need to replace \"project-id\" with your own GCP project ID.**\n",
        "\n",
        "Here for illustration we return 10 rows from the entire dataset for Aug 1, 2017."
      ],
      "metadata": {
        "id": "drYbB7bVHayQ"
      }
    },
    {
      "cell_type": "code",
      "source": [
        "%%bigquery --project capstone-359314 df\n",
        "\n",
        "SELECT * FROM bigquery-public-data.google_analytics_sample.ga_sessions_20170801\n",
        "limit 10"
      ],
      "metadata": {
        "id": "xvMfRKYSLhnq"
      },
      "execution_count": null,
      "outputs": []
    },
    {
      "cell_type": "code",
      "source": [
        "type(df)"
      ],
      "metadata": {
        "id": "qbXDx4Io3Gdi",
        "colab": {
          "base_uri": "https://localhost:8080/"
        },
        "outputId": "84cdfe26-3d58-4e4b-a46a-a72a0c55ee9f"
      },
      "execution_count": null,
      "outputs": [
        {
          "output_type": "execute_result",
          "data": {
            "text/plain": [
              "pandas.core.frame.DataFrame"
            ]
          },
          "metadata": {},
          "execution_count": 10
        }
      ]
    },
    {
      "cell_type": "code",
      "source": [
        "df.shape"
      ],
      "metadata": {
        "id": "WFSPa9P95_7v",
        "colab": {
          "base_uri": "https://localhost:8080/"
        },
        "outputId": "b3f038d5-9d9e-4e8c-db9d-4229ab02b523"
      },
      "execution_count": null,
      "outputs": [
        {
          "output_type": "execute_result",
          "data": {
            "text/plain": [
              "(10, 16)"
            ]
          },
          "metadata": {},
          "execution_count": 11
        }
      ]
    },
    {
      "cell_type": "code",
      "source": [
        "df.info()\n"
      ],
      "metadata": {
        "id": "RMQGuseA2v_E"
      },
      "execution_count": null,
      "outputs": []
    },
    {
      "cell_type": "code",
      "source": [
        "df.head()"
      ],
      "metadata": {
        "id": "g_ant7tnJ1wL"
      },
      "execution_count": null,
      "outputs": []
    },
    {
      "cell_type": "markdown",
      "source": [
        "The arrays from BigQuery have been brought into a pandas dataframe as what appear to be JSON columns. These include: totals, trafficSource, device, geoNetwork, and hits. The grain of the data is one row per visit; these latter columns record information within visits, and would need to be aggregated to the visit level to preserve the grain. We won't do that here.\n",
        "\n",
        "I prefer to do EDA in R, so my ultimate goal is to produce a rectangular dataset that can be read into R for data exploration. However R cannot import the JSON columns (which it interprets as python dicts). To prepare for EDA in R  we need to go back and revise the initial query to flatten the data."
      ],
      "metadata": {
        "id": "YzK2oE7I5kCG"
      }
    },
    {
      "cell_type": "markdown",
      "source": [
        "# 3. Flatten Data\n",
        "\n",
        "For reference, here is a detailed [data dictionary](https://support.google.com/analytics/answer/3437719?hl=en&ref_topic=3416089).\n",
        "\n",
        "You will most likely want to create different tables as you explore different ideas during EDA.\n",
        "\n",
        "The goal here is to create a table without nested data, featuring just one row per session. (This entails avoiding the `hits` and `product` tables, for now, since unnesting those will generate multiple rows per session--equivalent to a mutating join.) We will also bring in a month's worth of data. \n",
        "\n"
      ],
      "metadata": {
        "id": "dx7o3b--7xDK"
      }
    },
    {
      "cell_type": "code",
      "source": [
        "%%bigquery --project capstone-359314 df \n",
        "\n",
        "SELECT fullVisitorId, visitId, date,  device.*, totals.*, channelGrouping\n",
        "FROM `bigquery-public-data.google_analytics_sample.ga_sessions_*`\n",
        "WHERE _TABLE_SUFFIX BETWEEN '20160801' AND '20160831'"
      ],
      "metadata": {
        "id": "mB4Rke3HXATc"
      },
      "execution_count": null,
      "outputs": []
    },
    {
      "cell_type": "code",
      "source": [
        "df.shape"
      ],
      "metadata": {
        "id": "PuKJTkFhSfK4",
        "colab": {
          "base_uri": "https://localhost:8080/"
        },
        "outputId": "2c78d5e1-c8e0-4765-c233-a7f7197bbcba"
      },
      "execution_count": null,
      "outputs": [
        {
          "output_type": "execute_result",
          "data": {
            "text/plain": [
              "(74759, 34)"
            ]
          },
          "metadata": {},
          "execution_count": 17
        }
      ]
    },
    {
      "cell_type": "code",
      "source": [
        "df.columns"
      ],
      "metadata": {
        "id": "i1mu2ckwTRY2",
        "colab": {
          "base_uri": "https://localhost:8080/"
        },
        "outputId": "2cf18471-c9bf-4845-9b60-906f83017aad"
      },
      "execution_count": null,
      "outputs": [
        {
          "output_type": "execute_result",
          "data": {
            "text/plain": [
              "Index(['fullVisitorId', 'visitId', 'date', 'browser', 'browserVersion',\n",
              "       'browserSize', 'operatingSystem', 'operatingSystemVersion', 'isMobile',\n",
              "       'mobileDeviceBranding', 'mobileDeviceModel', 'mobileInputSelector',\n",
              "       'mobileDeviceInfo', 'mobileDeviceMarketingName', 'flashVersion',\n",
              "       'javaEnabled', 'language', 'screenColors', 'screenResolution',\n",
              "       'deviceCategory', 'visits', 'hits', 'pageviews', 'timeOnSite',\n",
              "       'bounces', 'transactions', 'transactionRevenue', 'newVisits',\n",
              "       'screenviews', 'uniqueScreenviews', 'timeOnScreen',\n",
              "       'totalTransactionRevenue', 'sessionQualityDim', 'channelGrouping'],\n",
              "      dtype='object')"
            ]
          },
          "metadata": {},
          "execution_count": 18
        }
      ]
    },
    {
      "cell_type": "markdown",
      "source": [
        "# 4. Import Data into R"
      ],
      "metadata": {
        "id": "IbUcg-eBVY7l"
      }
    },
    {
      "cell_type": "markdown",
      "source": [
        "We have already loaded the rpy2 package so we can now use R magic commands to load the df dataset into R. (-i stands for \"input.\")"
      ],
      "metadata": {
        "id": "lkhbb3BNCY8k"
      }
    },
    {
      "cell_type": "code",
      "source": [
        "%R -i df # Note: %R runs an R line of code in a python code chunk"
      ],
      "metadata": {
        "id": "7TevMcoSXW0n"
      },
      "execution_count": null,
      "outputs": []
    },
    {
      "cell_type": "markdown",
      "source": [
        "Load the tidyverse as well as other any other packages you would like to use. Note that you will need to install packages first. \n",
        "\n"
      ],
      "metadata": {
        "id": "fSoBKmGbWJWR"
      }
    },
    {
      "cell_type": "code",
      "source": [
        "%%R # Note: %%R defines an R code chunk\n",
        "\n",
        "library(tidyverse)\n"
      ],
      "metadata": {
        "id": "XO-g5cM--6Kx",
        "colab": {
          "base_uri": "https://localhost:8080/"
        },
        "outputId": "c4da2ada-21b0-4620-fde0-308935604f4a"
      },
      "execution_count": null,
      "outputs": [
        {
          "output_type": "stream",
          "name": "stderr",
          "text": [
            "WARNING:rpy2.rinterface_lib.callbacks:R[write to console]: ── Attaching packages ─────────────────────────────────────── tidyverse 1.3.1 ──\n",
            "\n",
            "WARNING:rpy2.rinterface_lib.callbacks:R[write to console]: ✔ ggplot2 3.3.6      ✔ purrr   0.3.4 \n",
            "✔ tibble  3.1.7      ✔ dplyr   1.0.10\n",
            "✔ tidyr   1.2.1      ✔ stringr 1.4.1 \n",
            "✔ readr   2.1.3      ✔ forcats 0.5.2 \n",
            "\n",
            "WARNING:rpy2.rinterface_lib.callbacks:R[write to console]: ── Conflicts ────────────────────────────────────────── tidyverse_conflicts() ──\n",
            "✖ dplyr::filter() masks stats::filter()\n",
            "✖ dplyr::lag()    masks stats::lag()\n",
            "\n"
          ]
        }
      ]
    },
    {
      "cell_type": "markdown",
      "source": [
        "Inspect the data."
      ],
      "metadata": {
        "id": "GQhfAU7BWW2A"
      }
    },
    {
      "cell_type": "code",
      "source": [
        "%R str(df)"
      ],
      "metadata": {
        "id": "7fGIV0UNWav_",
        "colab": {
          "base_uri": "https://localhost:8080/"
        },
        "outputId": "29ca728a-022b-49b2-87b5-e882237f47a0"
      },
      "execution_count": null,
      "outputs": [
        {
          "output_type": "stream",
          "name": "stdout",
          "text": [
            "'data.frame':\t74759 obs. of  34 variables:\n",
            " $ fullVisitorId            : chr  \"0481273239859840133\" \"0980222707282431430\" \"3330357741548094102\" \"0514860897874035287\" ...\n",
            " $ visitId                  : int  1471756508 1471722434 1471703492 1471744776 1471709789 1471732019 1471748588 1471717236 1471730048 1471680692 ...\n",
            " $ date                     : chr  \"20160820\" \"20160820\" \"20160820\" \"20160820\" ...\n",
            " $ browser                  : chr  \"Safari\" \"Chrome\" \"Chrome\" \"Chrome\" ...\n",
            " $ browserVersion           : chr  \"not available in demo dataset\" \"not available in demo dataset\" \"not available in demo dataset\" \"not available in demo dataset\" ...\n",
            " $ browserSize              : chr  \"not available in demo dataset\" \"not available in demo dataset\" \"not available in demo dataset\" \"not available in demo dataset\" ...\n",
            " $ operatingSystem          : chr  \"iOS\" \"Windows\" \"Windows\" \"Windows\" ...\n",
            " $ operatingSystemVersion   : chr  \"not available in demo dataset\" \"not available in demo dataset\" \"not available in demo dataset\" \"not available in demo dataset\" ...\n",
            " $ isMobile                 : logi  TRUE FALSE FALSE FALSE FALSE TRUE ...\n",
            " $ mobileDeviceBranding     : chr  \"not available in demo dataset\" \"not available in demo dataset\" \"not available in demo dataset\" \"not available in demo dataset\" ...\n",
            " $ mobileDeviceModel        : chr  \"not available in demo dataset\" \"not available in demo dataset\" \"not available in demo dataset\" \"not available in demo dataset\" ...\n",
            " $ mobileInputSelector      : chr  \"not available in demo dataset\" \"not available in demo dataset\" \"not available in demo dataset\" \"not available in demo dataset\" ...\n",
            " $ mobileDeviceInfo         : chr  \"not available in demo dataset\" \"not available in demo dataset\" \"not available in demo dataset\" \"not available in demo dataset\" ...\n",
            " $ mobileDeviceMarketingName: chr  \"not available in demo dataset\" \"not available in demo dataset\" \"not available in demo dataset\" \"not available in demo dataset\" ...\n",
            " $ flashVersion             : chr  \"not available in demo dataset\" \"not available in demo dataset\" \"not available in demo dataset\" \"not available in demo dataset\" ...\n",
            " $ javaEnabled              : logi  NA NA NA NA NA NA ...\n",
            " $ language                 : chr  \"not available in demo dataset\" \"not available in demo dataset\" \"not available in demo dataset\" \"not available in demo dataset\" ...\n",
            " $ screenColors             : chr  \"not available in demo dataset\" \"not available in demo dataset\" \"not available in demo dataset\" \"not available in demo dataset\" ...\n",
            " $ screenResolution         : chr  \"not available in demo dataset\" \"not available in demo dataset\" \"not available in demo dataset\" \"not available in demo dataset\" ...\n",
            " $ deviceCategory           : chr  \"mobile\" \"desktop\" \"desktop\" \"desktop\" ...\n",
            " $ visits                   : int  1 1 1 1 1 1 1 1 1 1 ...\n",
            " $ hits                     : int  1 1 1 1 1 2 2 2 2 2 ...\n",
            " $ pageviews                : num  1 1 1 1 1 2 2 2 2 2 ...\n",
            " $ timeOnSite               : num  NaN NaN NaN NaN NaN 17 8 48 15 58 ...\n",
            " $ bounces                  : num  1 1 1 1 1 NaN NaN NaN NaN NaN ...\n",
            " $ transactions             : num  NaN NaN NaN NaN NaN NaN NaN NaN NaN NaN ...\n",
            " $ transactionRevenue       : num  NaN NaN NaN NaN NaN NaN NaN NaN NaN NaN ...\n",
            " $ newVisits                : num  1 1 1 1 1 1 1 1 1 1 ...\n",
            " $ screenviews              : logi  NA NA NA NA NA NA ...\n",
            " $ uniqueScreenviews        : logi  NA NA NA NA NA NA ...\n",
            " $ timeOnScreen             : logi  NA NA NA NA NA NA ...\n",
            " $ totalTransactionRevenue  : num  NaN NaN NaN NaN NaN NaN NaN NaN NaN NaN ...\n",
            " $ sessionQualityDim        : logi  NA NA NA NA NA NA ...\n",
            " $ channelGrouping          : chr  \"Organic Search\" \"Organic Search\" \"Organic Search\" \"Organic Search\" ...\n"
          ]
        }
      ]
    },
    {
      "cell_type": "markdown",
      "source": [
        "Looks good!"
      ],
      "metadata": {
        "id": "yOvv3YjoC8I6"
      }
    },
    {
      "cell_type": "markdown",
      "source": [
        "# 5. EDA\n",
        "\n",
        "EDA is an art and a science. There is no one right way to explore a dataset. Use your creativity and critical thinking to explore hypotheses, and to ask and answer questions, based on your knowledge of the business problem and business context.\n",
        "\n",
        "Assume for now that the target variable for this project will be `transactionRevenue` and that the objective will be either explanatory (what causes purchases?) or predictive (which customers will buy?).  In the latter case we might be interested in predicting future revenue to do targeted marketing.   \n",
        "\n",
        "To illustrate the exploratory process, let's start with a hypothesis:  higher purchase rates and higher revenue will be associated with more pageviews. The logic would be that customers looking for something -- indicated by higher pageviews-- are more likely to buy. And: the more page view the more motivated the customer probably is and the more likely to buy. Note that there are two targets implied by this hypothesis:\n",
        "\n",
        "1. Purchase: a binary indicator for whether revenue for a session was greater than 0.\n",
        "2. Revenue: the amount spent.\n",
        "\n",
        "In EDA there are always a large number of possible hypotheses and questions, which can feel overwhelming, like looking for a needle in a haystack.  The procedure is to strategically limit exploration by--in this case--thinking about possible drivers of purchasing. "
      ],
      "metadata": {
        "id": "lR2ugW6UIq-P"
      }
    },
    {
      "cell_type": "markdown",
      "source": [
        "# EDA Example\n",
        "\n",
        "Tactics and techniques:\n",
        "- Investigate errors by looking at individual rows\n",
        "- Imputation of NAs\n",
        "- Log transformation for right-skewed and/or zero inflated distributions\n",
        "- Histograms\n",
        "- 5 number summary\n",
        "- Scatterplots\n",
        "- Smoothing\n",
        "- Binning\n",
        "- Boxplots\n",
        "- Interactions"
      ],
      "metadata": {
        "id": "OWy7DqYpAYcR"
      }
    },
    {
      "cell_type": "markdown",
      "source": [
        "## Grain of the data \n",
        "\n",
        "One preliminary issue is to make sure that the grain of the data is what we expect. One row per visit?"
      ],
      "metadata": {
        "id": "V08dxU3fB3YZ"
      }
    },
    {
      "cell_type": "code",
      "source": [
        "%%R\n",
        "\n",
        "df$visitId |> unique() |> length() # calculate number of unique visits using base pipe"
      ],
      "metadata": {
        "id": "RXwa62bwB9Ca",
        "colab": {
          "base_uri": "https://localhost:8080/"
        },
        "outputId": "b7ad5b51-a2b0-491b-f14a-3836516ad55f"
      },
      "execution_count": null,
      "outputs": [
        {
          "output_type": "stream",
          "name": "stdout",
          "text": [
            "[1] 73494\n"
          ]
        }
      ]
    },
    {
      "cell_type": "code",
      "source": [
        "%%R\n",
        "\n",
        "df |> nrow() # calculate number of rows"
      ],
      "metadata": {
        "id": "zNxAOkCDDCJv",
        "colab": {
          "base_uri": "https://localhost:8080/"
        },
        "outputId": "f3f4d13d-13c1-4da2-d4ec-08ef06f64a97"
      },
      "execution_count": null,
      "outputs": [
        {
          "output_type": "stream",
          "name": "stdout",
          "text": [
            "[1] 74759\n"
          ]
        }
      ]
    },
    {
      "cell_type": "markdown",
      "source": [
        "Not the same.  Arrgh! Row-by-row exploration will be required to understand what is going on."
      ],
      "metadata": {
        "id": "4Cl6mhNhDUrj"
      }
    },
    {
      "cell_type": "code",
      "source": [
        "%%R \n",
        "\n",
        "which(duplicated(df$visitId))[1] # find the first duplicated row"
      ],
      "metadata": {
        "id": "Z7chapHfDYHq",
        "colab": {
          "base_uri": "https://localhost:8080/"
        },
        "outputId": "dfef5a08-2df2-4fdf-eae2-3ac68e8c4845"
      },
      "execution_count": null,
      "outputs": [
        {
          "output_type": "stream",
          "name": "stdout",
          "text": [
            "[1] 258\n"
          ]
        }
      ]
    },
    {
      "cell_type": "code",
      "source": [
        "%R df[258, ] # use the index of the duplicated row to return the row"
      ],
      "metadata": {
        "id": "dkeFOYIvQZH-",
        "colab": {
          "base_uri": "https://localhost:8080/",
          "height": 227
        },
        "outputId": "cd26a922-7fc1-42f2-f229-270b3dba2731"
      },
      "execution_count": null,
      "outputs": [
        {
          "output_type": "stream",
          "name": "stdout",
          "text": [
            "Warning: Total number of columns (34) exceeds max_columns (20). Falling back to pandas display.\n"
          ]
        },
        {
          "output_type": "execute_result",
          "data": {
            "text/plain": [
              "           fullVisitorId     visitId      date browser  \\\n",
              "257  5755318980232615423  1471714460  20160820  Safari   \n",
              "\n",
              "                    browserVersion                    browserSize  \\\n",
              "257  not available in demo dataset  not available in demo dataset   \n",
              "\n",
              "    operatingSystem         operatingSystemVersion  isMobile  \\\n",
              "257       Macintosh  not available in demo dataset         0   \n",
              "\n",
              "              mobileDeviceBranding  ... bounces transactions  \\\n",
              "257  not available in demo dataset  ...     NaN          NaN   \n",
              "\n",
              "    transactionRevenue newVisits screenviews  uniqueScreenviews timeOnScreen  \\\n",
              "257                NaN       1.0 -2147483648        -2147483648  -2147483648   \n",
              "\n",
              "    totalTransactionRevenue sessionQualityDim channelGrouping  \n",
              "257                     NaN       -2147483648        Referral  \n",
              "\n",
              "[1 rows x 34 columns]"
            ],
            "text/html": [
              "\n",
              "  <div id=\"df-6493f25b-3d78-4a1a-b582-652eed68ff5b\">\n",
              "    <div class=\"colab-df-container\">\n",
              "      <div>\n",
              "<style scoped>\n",
              "    .dataframe tbody tr th:only-of-type {\n",
              "        vertical-align: middle;\n",
              "    }\n",
              "\n",
              "    .dataframe tbody tr th {\n",
              "        vertical-align: top;\n",
              "    }\n",
              "\n",
              "    .dataframe thead th {\n",
              "        text-align: right;\n",
              "    }\n",
              "</style>\n",
              "<table border=\"1\" class=\"dataframe\">\n",
              "  <thead>\n",
              "    <tr style=\"text-align: right;\">\n",
              "      <th></th>\n",
              "      <th>fullVisitorId</th>\n",
              "      <th>visitId</th>\n",
              "      <th>date</th>\n",
              "      <th>browser</th>\n",
              "      <th>browserVersion</th>\n",
              "      <th>browserSize</th>\n",
              "      <th>operatingSystem</th>\n",
              "      <th>operatingSystemVersion</th>\n",
              "      <th>isMobile</th>\n",
              "      <th>mobileDeviceBranding</th>\n",
              "      <th>...</th>\n",
              "      <th>bounces</th>\n",
              "      <th>transactions</th>\n",
              "      <th>transactionRevenue</th>\n",
              "      <th>newVisits</th>\n",
              "      <th>screenviews</th>\n",
              "      <th>uniqueScreenviews</th>\n",
              "      <th>timeOnScreen</th>\n",
              "      <th>totalTransactionRevenue</th>\n",
              "      <th>sessionQualityDim</th>\n",
              "      <th>channelGrouping</th>\n",
              "    </tr>\n",
              "  </thead>\n",
              "  <tbody>\n",
              "    <tr>\n",
              "      <th>257</th>\n",
              "      <td>5755318980232615423</td>\n",
              "      <td>1471714460</td>\n",
              "      <td>20160820</td>\n",
              "      <td>Safari</td>\n",
              "      <td>not available in demo dataset</td>\n",
              "      <td>not available in demo dataset</td>\n",
              "      <td>Macintosh</td>\n",
              "      <td>not available in demo dataset</td>\n",
              "      <td>0</td>\n",
              "      <td>not available in demo dataset</td>\n",
              "      <td>...</td>\n",
              "      <td>NaN</td>\n",
              "      <td>NaN</td>\n",
              "      <td>NaN</td>\n",
              "      <td>1.0</td>\n",
              "      <td>-2147483648</td>\n",
              "      <td>-2147483648</td>\n",
              "      <td>-2147483648</td>\n",
              "      <td>NaN</td>\n",
              "      <td>-2147483648</td>\n",
              "      <td>Referral</td>\n",
              "    </tr>\n",
              "  </tbody>\n",
              "</table>\n",
              "<p>1 rows × 34 columns</p>\n",
              "</div>\n",
              "      <button class=\"colab-df-convert\" onclick=\"convertToInteractive('df-6493f25b-3d78-4a1a-b582-652eed68ff5b')\"\n",
              "              title=\"Convert this dataframe to an interactive table.\"\n",
              "              style=\"display:none;\">\n",
              "        \n",
              "  <svg xmlns=\"http://www.w3.org/2000/svg\" height=\"24px\"viewBox=\"0 0 24 24\"\n",
              "       width=\"24px\">\n",
              "    <path d=\"M0 0h24v24H0V0z\" fill=\"none\"/>\n",
              "    <path d=\"M18.56 5.44l.94 2.06.94-2.06 2.06-.94-2.06-.94-.94-2.06-.94 2.06-2.06.94zm-11 1L8.5 8.5l.94-2.06 2.06-.94-2.06-.94L8.5 2.5l-.94 2.06-2.06.94zm10 10l.94 2.06.94-2.06 2.06-.94-2.06-.94-.94-2.06-.94 2.06-2.06.94z\"/><path d=\"M17.41 7.96l-1.37-1.37c-.4-.4-.92-.59-1.43-.59-.52 0-1.04.2-1.43.59L10.3 9.45l-7.72 7.72c-.78.78-.78 2.05 0 2.83L4 21.41c.39.39.9.59 1.41.59.51 0 1.02-.2 1.41-.59l7.78-7.78 2.81-2.81c.8-.78.8-2.07 0-2.86zM5.41 20L4 18.59l7.72-7.72 1.47 1.35L5.41 20z\"/>\n",
              "  </svg>\n",
              "      </button>\n",
              "      \n",
              "  <style>\n",
              "    .colab-df-container {\n",
              "      display:flex;\n",
              "      flex-wrap:wrap;\n",
              "      gap: 12px;\n",
              "    }\n",
              "\n",
              "    .colab-df-convert {\n",
              "      background-color: #E8F0FE;\n",
              "      border: none;\n",
              "      border-radius: 50%;\n",
              "      cursor: pointer;\n",
              "      display: none;\n",
              "      fill: #1967D2;\n",
              "      height: 32px;\n",
              "      padding: 0 0 0 0;\n",
              "      width: 32px;\n",
              "    }\n",
              "\n",
              "    .colab-df-convert:hover {\n",
              "      background-color: #E2EBFA;\n",
              "      box-shadow: 0px 1px 2px rgba(60, 64, 67, 0.3), 0px 1px 3px 1px rgba(60, 64, 67, 0.15);\n",
              "      fill: #174EA6;\n",
              "    }\n",
              "\n",
              "    [theme=dark] .colab-df-convert {\n",
              "      background-color: #3B4455;\n",
              "      fill: #D2E3FC;\n",
              "    }\n",
              "\n",
              "    [theme=dark] .colab-df-convert:hover {\n",
              "      background-color: #434B5C;\n",
              "      box-shadow: 0px 1px 3px 1px rgba(0, 0, 0, 0.15);\n",
              "      filter: drop-shadow(0px 1px 2px rgba(0, 0, 0, 0.3));\n",
              "      fill: #FFFFFF;\n",
              "    }\n",
              "  </style>\n",
              "\n",
              "      <script>\n",
              "        const buttonEl =\n",
              "          document.querySelector('#df-6493f25b-3d78-4a1a-b582-652eed68ff5b button.colab-df-convert');\n",
              "        buttonEl.style.display =\n",
              "          google.colab.kernel.accessAllowed ? 'block' : 'none';\n",
              "\n",
              "        async function convertToInteractive(key) {\n",
              "          const element = document.querySelector('#df-6493f25b-3d78-4a1a-b582-652eed68ff5b');\n",
              "          const dataTable =\n",
              "            await google.colab.kernel.invokeFunction('convertToInteractive',\n",
              "                                                     [key], {});\n",
              "          if (!dataTable) return;\n",
              "\n",
              "          const docLinkHtml = 'Like what you see? Visit the ' +\n",
              "            '<a target=\"_blank\" href=https://colab.research.google.com/notebooks/data_table.ipynb>data table notebook</a>'\n",
              "            + ' to learn more about interactive tables.';\n",
              "          element.innerHTML = '';\n",
              "          dataTable['output_type'] = 'display_data';\n",
              "          await google.colab.output.renderOutput(dataTable, element);\n",
              "          const docLink = document.createElement('div');\n",
              "          docLink.innerHTML = docLinkHtml;\n",
              "          element.appendChild(docLink);\n",
              "        }\n",
              "      </script>\n",
              "    </div>\n",
              "  </div>\n",
              "  "
            ]
          },
          "metadata": {},
          "execution_count": 25
        }
      ]
    },
    {
      "cell_type": "code",
      "source": [
        "%%R\n",
        "\n",
        "df |> filter(visitId == 1471714460) # filter the data by the visitId for the dup row"
      ],
      "metadata": {
        "id": "ZcfZ7s6NQmyN",
        "colab": {
          "base_uri": "https://localhost:8080/"
        },
        "outputId": "3e144db7-db5e-4af5-f273-3cf975e56c94"
      },
      "execution_count": null,
      "outputs": [
        {
          "output_type": "stream",
          "name": "stdout",
          "text": [
            "           fullVisitorId    visitId     date    browser\n",
            "17   2436244520003187375 1471714460 20160820 UC Browser\n",
            "257  5755318980232615423 1471714460 20160820     Safari\n",
            "1334 6666966519764298412 1471714460 20160820     Safari\n",
            "                    browserVersion                   browserSize\n",
            "17   not available in demo dataset not available in demo dataset\n",
            "257  not available in demo dataset not available in demo dataset\n",
            "1334 not available in demo dataset not available in demo dataset\n",
            "     operatingSystem        operatingSystemVersion isMobile\n",
            "17             Linux not available in demo dataset    FALSE\n",
            "257        Macintosh not available in demo dataset    FALSE\n",
            "1334       Macintosh not available in demo dataset    FALSE\n",
            "              mobileDeviceBranding             mobileDeviceModel\n",
            "17   not available in demo dataset not available in demo dataset\n",
            "257  not available in demo dataset not available in demo dataset\n",
            "1334 not available in demo dataset not available in demo dataset\n",
            "               mobileInputSelector              mobileDeviceInfo\n",
            "17   not available in demo dataset not available in demo dataset\n",
            "257  not available in demo dataset not available in demo dataset\n",
            "1334 not available in demo dataset not available in demo dataset\n",
            "         mobileDeviceMarketingName                  flashVersion javaEnabled\n",
            "17   not available in demo dataset not available in demo dataset          NA\n",
            "257  not available in demo dataset not available in demo dataset          NA\n",
            "1334 not available in demo dataset not available in demo dataset          NA\n",
            "                          language                  screenColors\n",
            "17   not available in demo dataset not available in demo dataset\n",
            "257  not available in demo dataset not available in demo dataset\n",
            "1334 not available in demo dataset not available in demo dataset\n",
            "                  screenResolution deviceCategory visits hits pageviews\n",
            "17   not available in demo dataset        desktop      1    2         2\n",
            "257  not available in demo dataset        desktop      1   13        11\n",
            "1334 not available in demo dataset        desktop      1    1         1\n",
            "     timeOnSite bounces transactions transactionRevenue newVisits screenviews\n",
            "17           74     NaN          NaN                NaN       NaN          NA\n",
            "257         141     NaN          NaN                NaN         1          NA\n",
            "1334        NaN       1          NaN                NaN         1          NA\n",
            "     uniqueScreenviews timeOnScreen totalTransactionRevenue sessionQualityDim\n",
            "17                  NA           NA                     NaN                NA\n",
            "257                 NA           NA                     NaN                NA\n",
            "1334                NA           NA                     NaN                NA\n",
            "     channelGrouping\n",
            "17    Organic Search\n",
            "257         Referral\n",
            "1334          Social\n"
          ]
        }
      ]
    },
    {
      "cell_type": "markdown",
      "source": [
        "Interesting!  `visitId` is not unique.  However, we can create a unique ID by combining it with `fullVisitorId` and `date` (since a single session seems to be recorded twice by Google Anaytics if it happens to span the change in date from 11:59 PM to 12:00 AM)."
      ],
      "metadata": {
        "id": "xYtp1Q6DQ31I"
      }
    },
    {
      "cell_type": "code",
      "source": [
        "%%R\n",
        "\n",
        "df <- df |> mutate(unique_id = paste0(fullVisitorId, visitId, date)) # create unique id"
      ],
      "metadata": {
        "id": "HYzz2MYBrl1z"
      },
      "execution_count": null,
      "outputs": []
    },
    {
      "cell_type": "code",
      "source": [
        "%R df$unique_id |> unique() |> length() # recalculate number of visits"
      ],
      "metadata": {
        "id": "XmfMa9BmR1cL",
        "colab": {
          "base_uri": "https://localhost:8080/"
        },
        "outputId": "930b7cbd-2d72-4d5a-9adc-8b2744b4a384"
      },
      "execution_count": null,
      "outputs": [
        {
          "output_type": "execute_result",
          "data": {
            "text/plain": [
              "array([74759], dtype=int32)"
            ]
          },
          "metadata": {},
          "execution_count": 28
        }
      ]
    },
    {
      "cell_type": "markdown",
      "source": [
        "Now there is one row per unique visit.  \n",
        "\n",
        "It is worth noting that we could choose to treat a session that occurs over two days not as two sessions, as we've done, but as one session that is arbitrarily split by the clock. This is a data modeling decision, and as such is neither right nor wrong. Keep it in mind though, since we may want to revise it. "
      ],
      "metadata": {
        "id": "mnK3vrjiSNOV"
      }
    },
    {
      "cell_type": "markdown",
      "source": [
        "## Distribution of `transactionRevenue`"
      ],
      "metadata": {
        "id": "72wBvcwwffEW"
      }
    },
    {
      "cell_type": "code",
      "source": [
        "%R head(df$transactionRevenue, 1000) # check top of data"
      ],
      "metadata": {
        "id": "MafsyHItfmVu"
      },
      "execution_count": null,
      "outputs": []
    },
    {
      "cell_type": "markdown",
      "source": [
        "Clearly, a session that did not result in a purchase is coded `NaN`.  That should be recoded as 0 and the amount of the purchase should be returned to a legible number by dividing by 10^6. While we're at it, let's copy this column and shorten the name."
      ],
      "metadata": {
        "id": "A2CQLZ63hobc"
      }
    },
    {
      "cell_type": "code",
      "source": [
        "%%R \n",
        "\n",
        "df <- df |> \n",
        "mutate(rev = transactionRevenue,\n",
        "       rev = rev/10^6, # transform revenue\n",
        "       rev = replace_na(rev, 0)) # replace NaNs w 0"
      ],
      "metadata": {
        "id": "p7ZEI8v7h_B1"
      },
      "execution_count": null,
      "outputs": []
    },
    {
      "cell_type": "code",
      "source": [
        "%R head(df$rev, 1000) # check result"
      ],
      "metadata": {
        "id": "SUqXxYOPjNND"
      },
      "execution_count": null,
      "outputs": []
    },
    {
      "cell_type": "markdown",
      "source": [
        "Next, visualize the distribution."
      ],
      "metadata": {
        "id": "SEjxXybPb4ev"
      }
    },
    {
      "cell_type": "code",
      "source": [
        "%%R\n",
        "\n",
        "# Note that here and in other viz I am not saving an object but just printing\n",
        "\n",
        "ggplot(data = df, aes(x = rev)) +\n",
        "geom_histogram() +\n",
        "labs(title = \"Distribution of purchase amounts\") # should always include a title\n"
      ],
      "metadata": {
        "id": "cgpCB3Azlob2",
        "colab": {
          "base_uri": "https://localhost:8080/",
          "height": 553
        },
        "outputId": "51e5dfae-efc2-4bdc-fbe6-33e79c4affeb"
      },
      "execution_count": null,
      "outputs": [
        {
          "output_type": "stream",
          "name": "stderr",
          "text": [
            "WARNING:rpy2.rinterface_lib.callbacks:R[write to console]: `stat_bin()` using `bins = 30`. Pick better value with `binwidth`.\n",
            "\n"
          ]
        },
        {
          "output_type": "display_data",
          "data": {
            "image/png": "[encoded data removed]"
          },
          "metadata": {}
        }
      ]
    },
    {
      "cell_type": "markdown",
      "source": [
        "Zero inflated.  Let's take a look at just the distribution of revenue > 0."
      ],
      "metadata": {
        "id": "GeLlJsVzcEA-"
      }
    },
    {
      "cell_type": "code",
      "source": [
        "%%R\n",
        "\n",
        "df |>\n",
        "filter(rev > 0) |>\n",
        "ggplot(aes(rev)) +\n",
        "geom_histogram() +\n",
        "labs(title = \"Distribution of revenue > 0\") "
      ],
      "metadata": {
        "id": "yCWe7eymcWsN",
        "colab": {
          "base_uri": "https://localhost:8080/",
          "height": 553
        },
        "outputId": "739a121c-c5c1-4f96-d6eb-018f184e1163"
      },
      "execution_count": null,
      "outputs": [
        {
          "output_type": "stream",
          "name": "stderr",
          "text": [
            "WARNING:rpy2.rinterface_lib.callbacks:R[write to console]: `stat_bin()` using `bins = 30`. Pick better value with `binwidth`.\n",
            "\n"
          ]
        },
        {
          "output_type": "display_data",
          "data": {
            "image/png": "[encoded data removed]"
          },
          "metadata": {}
        }
      ]
    },
    {
      "cell_type": "markdown",
      "source": [
        "Check 5 number summary of `rev.`"
      ],
      "metadata": {
        "id": "dFiCAvPExgrv"
      }
    },
    {
      "cell_type": "code",
      "source": [
        "%%R\n",
        "\n",
        "df %>%\n",
        "filter(rev > 0) %>%\n",
        "select(rev) %>%\n",
        "summary\n"
      ],
      "metadata": {
        "id": "fES6TTw6ndu1",
        "colab": {
          "base_uri": "https://localhost:8080/"
        },
        "outputId": "0dc2f68d-eba8-4f2d-e92d-e5ae347b4441"
      },
      "execution_count": null,
      "outputs": [
        {
          "output_type": "stream",
          "name": "stdout",
          "text": [
            "      rev         \n",
            " Min.   :   0.01  \n",
            " 1st Qu.:  31.95  \n",
            " Median :  63.15  \n",
            " Mean   : 138.22  \n",
            " 3rd Qu.: 128.00  \n",
            " Max.   :4085.50  \n"
          ]
        }
      ]
    },
    {
      "cell_type": "markdown",
      "source": [
        "Long right tail. Log normal? Looks like it:"
      ],
      "metadata": {
        "id": "hsJ2UH5slcZ_"
      }
    },
    {
      "cell_type": "code",
      "source": [
        "%%R\n",
        "\n",
        "df |>\n",
        "filter(rev > 0) |> # filter rev to be non-zero:  log(0) is undefined\n",
        "ggplot(aes(log(rev))) + # do log transform w/in ggplot\n",
        "geom_histogram() +\n",
        "labs(title = \"Distribution of log revenue > 0\") "
      ],
      "metadata": {
        "id": "y2NgpVGHnzFj",
        "colab": {
          "base_uri": "https://localhost:8080/",
          "height": 553
        },
        "outputId": "1da9c9a7-e3b9-4303-cb85-090e8eb33f71"
      },
      "execution_count": null,
      "outputs": [
        {
          "output_type": "stream",
          "name": "stderr",
          "text": [
            "WARNING:rpy2.rinterface_lib.callbacks:R[write to console]: `stat_bin()` using `bins = 30`. Pick better value with `binwidth`.\n",
            "\n"
          ]
        },
        {
          "output_type": "display_data",
          "data": {
            "image/png": "[encoded data removed]"
          },
          "metadata": {}
        }
      ]
    },
    {
      "cell_type": "markdown",
      "source": [
        "We may need to log transform `transactionRevenue` for modeling later on, depending on the algorithm."
      ],
      "metadata": {
        "id": "VNLrOU0Hcqoc"
      }
    },
    {
      "cell_type": "markdown",
      "source": [
        "## Distribution of pageviews\n",
        "\n",
        "There should be a minimum of 1, since the visit was recorded in Google Analytics."
      ],
      "metadata": {
        "id": "Ejmj16zPDsJv"
      }
    },
    {
      "cell_type": "code",
      "source": [
        "%%R\n",
        "summary(df$pageviews)"
      ],
      "metadata": {
        "id": "wLQqoBFHuMUJ",
        "colab": {
          "base_uri": "https://localhost:8080/"
        },
        "outputId": "59fe474f-0e04-4b94-8636-6691477b934f"
      },
      "execution_count": null,
      "outputs": [
        {
          "output_type": "stream",
          "name": "stdout",
          "text": [
            "   Min. 1st Qu.  Median    Mean 3rd Qu.    Max.    NA's \n",
            "  1.000   1.000   2.000   4.848   5.000 469.000      15 \n"
          ]
        }
      ]
    },
    {
      "cell_type": "markdown",
      "source": [
        "Could look into what an NA might mean (if anything) for pageviews."
      ],
      "metadata": {
        "id": "Rco9AtMFumrd"
      }
    },
    {
      "cell_type": "code",
      "source": [
        "%%R \n",
        "\n",
        "ggplot(df, aes(pageviews)) +\n",
        "geom_histogram() +\n",
        "labs(title = \"Distribution of pageviews\")\n"
      ],
      "metadata": {
        "id": "-wopnDr9DyHe",
        "colab": {
          "base_uri": "https://localhost:8080/",
          "height": 553
        },
        "outputId": "d193e4a9-2c62-47b0-c111-f93846afb5a1"
      },
      "execution_count": null,
      "outputs": [
        {
          "output_type": "stream",
          "name": "stderr",
          "text": [
            "WARNING:rpy2.rinterface_lib.callbacks:R[write to console]: `stat_bin()` using `bins = 30`. Pick better value with `binwidth`.\n",
            "\n"
          ]
        },
        {
          "output_type": "display_data",
          "data": {
            "image/png": "[encoded data removed]"
          },
          "metadata": {}
        }
      ]
    },
    {
      "cell_type": "markdown",
      "source": [
        "Strongly right skewed with large outliers. At least 50% of the customers viewed just one or two pages."
      ],
      "metadata": {
        "id": "PXTXJvxYu0Ed"
      }
    },
    {
      "cell_type": "markdown",
      "source": [
        "## Are pageviews related to revenue? \n",
        "\n",
        "Specifically does the proportion of purchases and related revenue go up with `pageviews`?\n",
        "\n"
      ],
      "metadata": {
        "id": "VSvKI5npvfE-"
      }
    },
    {
      "cell_type": "markdown",
      "source": [
        "**Scatterplots and smoothing**"
      ],
      "metadata": {
        "id": "OaOKj7h-5Sha"
      }
    },
    {
      "cell_type": "code",
      "source": [
        "%%R\n",
        "\n",
        "ggplot(df, aes(pageviews, rev)) +\n",
        "geom_point() +\n",
        "geom_smooth(se = F) + # Uses default LOESS smoothing, good for picking out non-linearity\n",
        "labs(title = \"rev ~ pageviews\")"
      ],
      "metadata": {
        "id": "BCSRd47hvgWx",
        "colab": {
          "base_uri": "https://localhost:8080/",
          "height": 553
        },
        "outputId": "a76f9bdc-20d2-41c6-cee3-9d736d49722d"
      },
      "execution_count": null,
      "outputs": [
        {
          "output_type": "stream",
          "name": "stderr",
          "text": [
            "WARNING:rpy2.rinterface_lib.callbacks:R[write to console]: `geom_smooth()` using method = 'gam' and formula 'y ~ s(x, bs = \"cs\")'\n",
            "\n"
          ]
        },
        {
          "output_type": "display_data",
          "data": {
            "image/png": "[encoded data removed]"
          },
          "metadata": {}
        }
      ]
    },
    {
      "cell_type": "markdown",
      "source": [
        "Perhaps there is a positive relationship, but it is hard to tell whether the regression line's upward trend is due to influential points. Let's try a log transformation to reduce the influence of the outliers.\n",
        "\n",
        "Because `rev` includes 0s we do a `log(x + 1)` transformation, which has a nice property: the former 0s are now 1s, that, after log transformation, are 0s again, since `log(1) = 0`."
      ],
      "metadata": {
        "id": "JR3SxjEPwJC8"
      }
    },
    {
      "cell_type": "code",
      "source": [
        "%%R\n",
        "\n",
        "ggplot(df, aes(log(pageviews), log(rev + 1))) +\n",
        "geom_point() +\n",
        "geom_smooth(se = F) +\n",
        "labs(title = \"log(rev) ~ log(pageviews)\")"
      ],
      "metadata": {
        "id": "ey3yOUa0wed6",
        "colab": {
          "base_uri": "https://localhost:8080/",
          "height": 553
        },
        "outputId": "0da59d5d-dc38-4a16-f84d-9e0a93e5507b"
      },
      "execution_count": null,
      "outputs": [
        {
          "output_type": "stream",
          "name": "stderr",
          "text": [
            "WARNING:rpy2.rinterface_lib.callbacks:R[write to console]: `geom_smooth()` using method = 'gam' and formula 'y ~ s(x, bs = \"cs\")'\n",
            "\n"
          ]
        },
        {
          "output_type": "display_data",
          "data": {
            "image/png": "[encoded data removed]"
          },
          "metadata": {}
        }
      ]
    },
    {
      "cell_type": "markdown",
      "source": [
        "Same story but still hard to read with the majority of the overplotted points at `log(rev + 1)` = 0."
      ],
      "metadata": {
        "id": "McoyWS4Bx-hL"
      }
    },
    {
      "cell_type": "code",
      "source": [
        "%%R\n",
        "\n",
        "df |>\n",
        "filter(pageviews > 1, rev > 0) |>\n",
        "ggplot(aes(log(pageviews), log(rev))) +\n",
        "geom_point() +\n",
        "geom_smooth(se = F)+\n",
        "labs(title = \"filtered log(rev) ~ log(pageviews)\")"
      ],
      "metadata": {
        "id": "2KBEUwvDyC0-",
        "colab": {
          "base_uri": "https://localhost:8080/",
          "height": 553
        },
        "outputId": "5090ca97-d1a5-4d30-b4c7-5b332c4978f4"
      },
      "execution_count": null,
      "outputs": [
        {
          "output_type": "stream",
          "name": "stderr",
          "text": [
            "WARNING:rpy2.rinterface_lib.callbacks:R[write to console]: `geom_smooth()` using method = 'gam' and formula 'y ~ s(x, bs = \"cs\")'\n",
            "\n"
          ]
        },
        {
          "output_type": "display_data",
          "data": {
            "image/png": "[encoded data removed]"
          },
          "metadata": {}
        }
      ]
    },
    {
      "cell_type": "markdown",
      "source": [
        "**Binning**\n",
        "\n",
        "Binning is generally very useful for visualization. \n",
        "\n",
        "Let's bin `pageviews` and then calculate purchase rate and median purchase amount for each bin.  \n",
        "\n",
        "Two dpyr functions are helpful to create bins:  `cut_interval()` and `cut_number()`.\n",
        "\n",
        "`cut_interval()` attempts to make the bin widths the same."
      ],
      "metadata": {
        "id": "kBg83_AMykb0"
      }
    },
    {
      "cell_type": "code",
      "source": [
        "%%R \n",
        "\n",
        "df |>\n",
        "filter(!is.na(pageviews)) |>\n",
        "mutate(pageview_bins = cut_interval(log(pageviews), 12)) |> # log pageviews to reduce bin width\n",
        "group_by(pageview_bins) |> # group by bins to produce summary stats for each bin\n",
        "summarize(n = n(),\n",
        "          purchase_rate = sum(rev > 0)/n, # calculates the proportion of purchases in each bin\n",
        "          median_purchase = median(rev[rev > 0])) # calculates the median rev for rev > 0 in bins"
      ],
      "metadata": {
        "id": "Q9Lkp-8qEWEA",
        "colab": {
          "base_uri": "https://localhost:8080/"
        },
        "outputId": "071a5263-1c51-4984-bfcc-28f9ce342ea9"
      },
      "execution_count": 1,
      "outputs": [
        {
          "output_type": "stream",
          "name": "stderr",
          "text": [
            "UsageError: Cell magic `%%R` not found.\n"
          ]
        }
      ]
    },
    {
      "cell_type": "markdown",
      "source": [
        "`cut_number()` attempts to put the same number of observations in each bin. It does not work well in this instance because there are so many observations at `pageviews` equal to 1 and 2."
      ],
      "metadata": {
        "id": "B3z_biqkfkcu"
      }
    },
    {
      "cell_type": "markdown",
      "source": [
        "**Boxplots**\n",
        "\n",
        "Here is a boxplot that shows the pattern from the above table. We could use a barplot to visualize the above summary table but a boxplot is more efficient."
      ],
      "metadata": {
        "id": "V9cFQh95t3kO"
      }
    },
    {
      "cell_type": "code",
      "source": [
        "%%R \n",
        "\n",
        "df |>\n",
        "filter(!is.na(pageviews)) |>\n",
        "mutate(pageview_bins = cut_interval(log(pageviews), 8)) |> # reduce bin number for visualization\n",
        "ggplot(aes(pageview_bins, log(rev + 1)))+\n",
        "geom_boxplot() +\n",
        "labs(title = \"log(rev) ~ binned pageviews\")"
      ],
      "metadata": {
        "id": "TfRZh2DWOsql"
      },
      "execution_count": null,
      "outputs": []
    },
    {
      "cell_type": "markdown",
      "source": [
        "## Questions beget questions\n",
        "\n",
        "Strong bivariate relationships should be checked for interactions with a logical third variable.  \n",
        "\n",
        "Does the relationship between `transactionRevenue` and `pageviews` vary by `channelGrouping`? "
      ],
      "metadata": {
        "id": "CemKkf4Kr095"
      }
    },
    {
      "cell_type": "code",
      "source": [
        "%%R \n",
        "\n",
        "df |>\n",
        "filter(!is.na(pageviews)) |>\n",
        "mutate(pageview_bins = cut_interval(log(pageviews), 8)) |>\n",
        "group_by(pageview_bins, channelGrouping) |> # Group by both factors\n",
        "summarize(n = n(),\n",
        "          purchase_rate = sum(rev > 0)/n, \n",
        "          median_purchase = median(rev[rev > 0])) |>\n",
        "          filter(purchase_rate > 0,   # filter for better legibility in visualization\n",
        "                 n > 50) |> # n > 50 is an arbitrary cutoff\n",
        "ggplot(aes(pageview_bins, purchase_rate, fill = channelGrouping))  +\n",
        "geom_col(position = \"dodge\") +\n",
        "labs(title = \"Purchase rate by pageviews and channels\")"
      ],
      "metadata": {
        "id": "6YBdgGdA3dky"
      },
      "execution_count": null,
      "outputs": []
    }
  ]
}