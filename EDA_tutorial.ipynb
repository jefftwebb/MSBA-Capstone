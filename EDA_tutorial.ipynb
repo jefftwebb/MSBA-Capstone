{
  "nbformat": 4,
  "nbformat_minor": 0,
  "metadata": {
    "colab": {
      "provenance": [],
      "toc_visible": true,
      "authorship_tag": "ABX9TyPSNdS/i8thgkhkdVp7RSj7",
      "include_colab_link": true
    },
    "kernelspec": {
      "name": "python3",
      "display_name": "Python 3"
    },
    "language_info": {
      "name": "python"
    }
  },
  "cells": [
    {
      "cell_type": "markdown",
      "metadata": {
        "id": "view-in-github",
        "colab_type": "text"
      },
      "source": [
        "<a href=\"https://colab.research.google.com/github/jefftwebb/MSBA-Capstone/blob/main/EDA_tutorial.ipynb\" target=\"_parent\"><img src=\"https://colab.research.google.com/assets/colab-badge.svg\" alt=\"Open In Colab\"/></a>"
      ]
    },
    {
      "cell_type": "markdown",
      "source": [
        "# EDA with  SQL, Python and R in Google Colab\n",
        "\n"
      ],
      "metadata": {
        "id": "XBqPsLAh1g-m"
      }
    },
    {
      "cell_type": "markdown",
      "source": [
        "# 1. Connect to BigQuery, format table display and load R extension.\n",
        "\n",
        "This interactive authentication requires that you have a google account."
      ],
      "metadata": {
        "id": "SvFjll-dIgbY"
      }
    },
    {
      "cell_type": "code",
      "execution_count": null,
      "metadata": {
        "id": "-Aj9nAb4IURd"
      },
      "outputs": [],
      "source": [
        "from google.colab import auth\n",
        "auth.authenticate_user()"
      ]
    },
    {
      "cell_type": "markdown",
      "source": [
        "Using Data Table makes it more convenient to navigate tables within the notebook."
      ],
      "metadata": {
        "id": "zKfKY0MLtOW8"
      }
    },
    {
      "cell_type": "code",
      "source": [
        "from google.colab import data_table\n",
        "data_table.enable_dataframe_formatter()"
      ],
      "metadata": {
        "id": "avYmejO8q3yx"
      },
      "execution_count": null,
      "outputs": []
    },
    {
      "cell_type": "markdown",
      "source": [
        " The rpy2 package allows us to write R code."
      ],
      "metadata": {
        "id": "349K6vuzsKrr"
      }
    },
    {
      "cell_type": "code",
      "source": [
        "%load_ext rpy2.ipython\n"
      ],
      "metadata": {
        "id": "NyVxMGtkRouf"
      },
      "execution_count": null,
      "outputs": []
    },
    {
      "cell_type": "markdown",
      "source": [
        "# 2. Magic commands to write SQL and R code\n",
        "\n",
        "Google colab is a web hosted version of a jupityr notebook. Project jupityr started in 2014 with the goal of making  ipython notebooks language agnostic.  Hence jupityr, which stands for \"Julia,\" \"Python,\" and \"R.\" In google colab we can write code chunks in a variety of programming languages in addition to the native Python via the so-called \"magic commands.\""
      ],
      "metadata": {
        "id": "sRV0St9lSkcm"
      }
    },
    {
      "cell_type": "markdown",
      "source": [
        "First: what are magic commands? "
      ],
      "metadata": {
        "id": "PFoZiK0AH3SX"
      }
    },
    {
      "cell_type": "code",
      "source": [
        "%magic"
      ],
      "metadata": {
        "id": "sdmFGMPlGukJ"
      },
      "execution_count": null,
      "outputs": []
    },
    {
      "cell_type": "markdown",
      "source": [
        "Which ones are available? (The R magics only appear after you have loaded the `rpy2` extension.)"
      ],
      "metadata": {
        "id": "l1NFw8j3KiAy"
      }
    },
    {
      "cell_type": "code",
      "source": [
        "%lsmagic"
      ],
      "metadata": {
        "id": "VV6qCarqHYLd"
      },
      "execution_count": null,
      "outputs": []
    },
    {
      "cell_type": "markdown",
      "source": [
        "Notice that there are two levels of magic commands:\n",
        "\n",
        "- %% affects the entire cell; \n",
        "- % affects an individual line.\n",
        "\n",
        "In this tutorial we'll be using bigquery magics (to write SQL against tables in bigquery) and R magics (to write R code).\n",
        "\n",
        "For example, the following cell uses %%bigquery to query the google analytics public dataset, storing the result in a pandas dataframe (the default format in .ipynb) defined in the cell magic statement as \"df.\" **In the code chunks below you will need to replace \"project-id\" with your own GCP project ID.**\n",
        "\n",
        "Here for illustration we return 10 rows from the entire dataset for Aug 1, 2017."
      ],
      "metadata": {
        "id": "drYbB7bVHayQ"
      }
    },
    {
      "cell_type": "code",
      "source": [
        "%%bigquery --project project-id df\n",
        "\n",
        "SELECT * FROM bigquery-public-data.google_analytics_sample.ga_sessions_20170801\n",
        "limit 10"
      ],
      "metadata": {
        "id": "xvMfRKYSLhnq"
      },
      "execution_count": null,
      "outputs": []
    },
    {
      "cell_type": "code",
      "source": [
        "type(df)"
      ],
      "metadata": {
        "id": "qbXDx4Io3Gdi"
      },
      "execution_count": null,
      "outputs": []
    },
    {
      "cell_type": "code",
      "source": [
        "df.shape"
      ],
      "metadata": {
        "id": "WFSPa9P95_7v"
      },
      "execution_count": null,
      "outputs": []
    },
    {
      "cell_type": "code",
      "source": [
        "df.info()\n"
      ],
      "metadata": {
        "id": "RMQGuseA2v_E"
      },
      "execution_count": null,
      "outputs": []
    },
    {
      "cell_type": "code",
      "source": [
        "df.head()"
      ],
      "metadata": {
        "id": "g_ant7tnJ1wL"
      },
      "execution_count": null,
      "outputs": []
    },
    {
      "cell_type": "markdown",
      "source": [
        "The arrays from BigQuery have been brought into a pandas dataframe as what appear to be JSON columns. These include: totals, trafficSource, device, geoNetwork, and hits.\n",
        "\n",
        "I prefer to do EDA in R, so my ultimate goal is to produce a rectangular dataset that can be read into R for data exploration. However R will not accept the JSON columns (which it interprets as python dicts). To prepare for EDA in R  let's go back and revise the initial query to flatten the dataset (as well as to pull in more dates) with one row per visit."
      ],
      "metadata": {
        "id": "YzK2oE7I5kCG"
      }
    },
    {
      "cell_type": "markdown",
      "source": [
        "# 3. Flatten Data\n",
        "\n",
        "For reference, here is a detailed [data dictionary](https://support.google.com/analytics/answer/3437719?hl=en&ref_topic=3416089).\n",
        "\n",
        "You will most likely want to create different tables as you explore different ideas during EDA.\n",
        "\n",
        "For this exercise, we will focus on a few tables and bring in a month's worth of data. \n",
        "\n",
        "The goal is to create a table without nested data, featuring just one row per session. Note that this will entail avoiding the `hits` and `product` tables (for now) since unnesting those will generate multiple rows per session--equivalent to a mutating join. \n",
        "\n"
      ],
      "metadata": {
        "id": "dx7o3b--7xDK"
      }
    },
    {
      "cell_type": "code",
      "source": [
        "%%bigquery --project project-id df \n",
        "\n",
        "SELECT fullVisitorId, visitId, date,  device.*, totals.*, channelGrouping\n",
        "FROM `bigquery-public-data.google_analytics_sample.ga_sessions_*`\n",
        "WHERE _TABLE_SUFFIX BETWEEN '20160801' AND '20160831'"
      ],
      "metadata": {
        "id": "mB4Rke3HXATc"
      },
      "execution_count": null,
      "outputs": []
    },
    {
      "cell_type": "code",
      "source": [
        "df.shape"
      ],
      "metadata": {
        "id": "PuKJTkFhSfK4"
      },
      "execution_count": null,
      "outputs": []
    },
    {
      "cell_type": "code",
      "source": [
        "df.columns"
      ],
      "metadata": {
        "id": "i1mu2ckwTRY2"
      },
      "execution_count": null,
      "outputs": []
    },
    {
      "cell_type": "markdown",
      "source": [
        "# 4. Import Data into R"
      ],
      "metadata": {
        "id": "IbUcg-eBVY7l"
      }
    },
    {
      "cell_type": "markdown",
      "source": [
        "We have already loaded the rpy2 package so we can now use R magic commands to load the df dataset into R. (-i stands for \"input.\")"
      ],
      "metadata": {
        "id": "lkhbb3BNCY8k"
      }
    },
    {
      "cell_type": "code",
      "source": [
        "%R -i df"
      ],
      "metadata": {
        "id": "7TevMcoSXW0n"
      },
      "execution_count": null,
      "outputs": []
    },
    {
      "cell_type": "markdown",
      "source": [
        "Load the tidyverse as well as other any other packages you would like to use. Note that you will need to install packages first. \n",
        "\n"
      ],
      "metadata": {
        "id": "fSoBKmGbWJWR"
      }
    },
    {
      "cell_type": "code",
      "source": [
        "%%R \n",
        "library(tidyverse)\n"
      ],
      "metadata": {
        "id": "XO-g5cM--6Kx"
      },
      "execution_count": null,
      "outputs": []
    },
    {
      "cell_type": "markdown",
      "source": [
        "Inspect the data."
      ],
      "metadata": {
        "id": "GQhfAU7BWW2A"
      }
    },
    {
      "cell_type": "code",
      "source": [
        "%R str(df)"
      ],
      "metadata": {
        "id": "7fGIV0UNWav_"
      },
      "execution_count": null,
      "outputs": []
    },
    {
      "cell_type": "markdown",
      "source": [
        "Looks good!"
      ],
      "metadata": {
        "id": "yOvv3YjoC8I6"
      }
    },
    {
      "cell_type": "markdown",
      "source": [
        "# 5. EDA\n",
        "\n",
        "EDA is an art and a science. There is no one right way to explore a dataset. Use your creativity and critical thinking to ask and answer questions, based on your knowledge of the business problem and business context.\n",
        "\n",
        "Assume for now that the target variable for this project will be `transactionRevenue` and that the objective will be either explanatory (what causes purchases?) or predictive (which customers will buy?).  In the latter case we might be interested in predicting future revenue to do targeted marketing.   \n",
        "\n",
        "To illustrate the exploratory process, let's start with a hypothesis:  higher `transactionRevenue` will be associated with more `pageViews`. The logic would be that customers looking for something -- indicated by higher `pageViews`-- are more likely to buy. And: the more `pageViews` the more motivated the customer probably is and the more likely to buy.\n",
        "\n",
        "There are a large number of possible hypotheses and questions, which can feel overwhelming, like looking for a needle in a haystack.  But the procedure is to limit the exploration by thinking about possible drivers of purchasing. "
      ],
      "metadata": {
        "id": "lR2ugW6UIq-P"
      }
    },
    {
      "cell_type": "markdown",
      "source": [
        "# Illustration\n"
      ],
      "metadata": {
        "id": "OWy7DqYpAYcR"
      }
    },
    {
      "cell_type": "markdown",
      "source": [
        "## Grain of the data.  One row per visit?\n",
        "\n",
        "One preliminary issue is to make sure that the grain of the data is what we expect."
      ],
      "metadata": {
        "id": "V08dxU3fB3YZ"
      }
    },
    {
      "cell_type": "code",
      "source": [
        "%%R\n",
        "\n",
        "df$visitId |> unique() |> length()"
      ],
      "metadata": {
        "id": "RXwa62bwB9Ca",
        "colab": {
          "base_uri": "https://localhost:8080/"
        },
        "outputId": "3839a4e2-80b7-4f08-9ad8-9b8fbbe97c4e"
      },
      "execution_count": null,
      "outputs": [
        {
          "output_type": "stream",
          "name": "stdout",
          "text": [
            "[1] 73494\n"
          ]
        }
      ]
    },
    {
      "cell_type": "code",
      "source": [
        "%%R\n",
        "\n",
        "df |> nrow()"
      ],
      "metadata": {
        "id": "zNxAOkCDDCJv",
        "colab": {
          "base_uri": "https://localhost:8080/"
        },
        "outputId": "d8150a30-5774-4872-ce13-d662ef395017"
      },
      "execution_count": null,
      "outputs": [
        {
          "output_type": "stream",
          "name": "stdout",
          "text": [
            "[1] 74759\n"
          ]
        }
      ]
    },
    {
      "cell_type": "markdown",
      "source": [
        "Not the same.  Arrgh! Row-by-row exploration will be required to understand what is going on."
      ],
      "metadata": {
        "id": "4Cl6mhNhDUrj"
      }
    },
    {
      "cell_type": "code",
      "source": [
        "%%R \n",
        "\n",
        "which(duplicated(df$visitId))[1]"
      ],
      "metadata": {
        "id": "Z7chapHfDYHq",
        "colab": {
          "base_uri": "https://localhost:8080/"
        },
        "outputId": "9094178c-4c90-4e6e-d193-c2edae6183f3"
      },
      "execution_count": null,
      "outputs": [
        {
          "output_type": "stream",
          "name": "stdout",
          "text": [
            "[1] 353\n"
          ]
        }
      ]
    },
    {
      "cell_type": "code",
      "source": [
        "%R df[107, ]"
      ],
      "metadata": {
        "id": "dkeFOYIvQZH-",
        "colab": {
          "base_uri": "https://localhost:8080/",
          "height": 227
        },
        "outputId": "c71723c1-4831-494d-89cb-b695ad96307d"
      },
      "execution_count": null,
      "outputs": [
        {
          "output_type": "stream",
          "name": "stdout",
          "text": [
            "Warning: Total number of columns (34) exceeds max_columns (20). Falling back to pandas display.\n"
          ]
        },
        {
          "output_type": "execute_result",
          "data": {
            "text/plain": [
              "           fullVisitorId     visitId      date browser  \\\n",
              "106  3963980007630020997  1470350048  20160804  Safari   \n",
              "\n",
              "                    browserVersion                    browserSize  \\\n",
              "106  not available in demo dataset  not available in demo dataset   \n",
              "\n",
              "    operatingSystem         operatingSystemVersion  isMobile  \\\n",
              "106             iOS  not available in demo dataset         1   \n",
              "\n",
              "              mobileDeviceBranding  ... bounces transactions  \\\n",
              "106  not available in demo dataset  ...     NaN          NaN   \n",
              "\n",
              "    transactionRevenue newVisits screenviews  uniqueScreenviews timeOnScreen  \\\n",
              "106                NaN       1.0 -2147483648        -2147483648  -2147483648   \n",
              "\n",
              "    totalTransactionRevenue sessionQualityDim channelGrouping  \n",
              "106                     NaN       -2147483648          Direct  \n",
              "\n",
              "[1 rows x 34 columns]"
            ],
            "text/html": [
              "\n",
              "  <div id=\"df-dbbe6466-3ae7-48a4-9531-d66071a7059e\">\n",
              "    <div class=\"colab-df-container\">\n",
              "      <div>\n",
              "<style scoped>\n",
              "    .dataframe tbody tr th:only-of-type {\n",
              "        vertical-align: middle;\n",
              "    }\n",
              "\n",
              "    .dataframe tbody tr th {\n",
              "        vertical-align: top;\n",
              "    }\n",
              "\n",
              "    .dataframe thead th {\n",
              "        text-align: right;\n",
              "    }\n",
              "</style>\n",
              "<table border=\"1\" class=\"dataframe\">\n",
              "  <thead>\n",
              "    <tr style=\"text-align: right;\">\n",
              "      <th></th>\n",
              "      <th>fullVisitorId</th>\n",
              "      <th>visitId</th>\n",
              "      <th>date</th>\n",
              "      <th>browser</th>\n",
              "      <th>browserVersion</th>\n",
              "      <th>browserSize</th>\n",
              "      <th>operatingSystem</th>\n",
              "      <th>operatingSystemVersion</th>\n",
              "      <th>isMobile</th>\n",
              "      <th>mobileDeviceBranding</th>\n",
              "      <th>...</th>\n",
              "      <th>bounces</th>\n",
              "      <th>transactions</th>\n",
              "      <th>transactionRevenue</th>\n",
              "      <th>newVisits</th>\n",
              "      <th>screenviews</th>\n",
              "      <th>uniqueScreenviews</th>\n",
              "      <th>timeOnScreen</th>\n",
              "      <th>totalTransactionRevenue</th>\n",
              "      <th>sessionQualityDim</th>\n",
              "      <th>channelGrouping</th>\n",
              "    </tr>\n",
              "  </thead>\n",
              "  <tbody>\n",
              "    <tr>\n",
              "      <th>106</th>\n",
              "      <td>3963980007630020997</td>\n",
              "      <td>1470350048</td>\n",
              "      <td>20160804</td>\n",
              "      <td>Safari</td>\n",
              "      <td>not available in demo dataset</td>\n",
              "      <td>not available in demo dataset</td>\n",
              "      <td>iOS</td>\n",
              "      <td>not available in demo dataset</td>\n",
              "      <td>1</td>\n",
              "      <td>not available in demo dataset</td>\n",
              "      <td>...</td>\n",
              "      <td>NaN</td>\n",
              "      <td>NaN</td>\n",
              "      <td>NaN</td>\n",
              "      <td>1.0</td>\n",
              "      <td>-2147483648</td>\n",
              "      <td>-2147483648</td>\n",
              "      <td>-2147483648</td>\n",
              "      <td>NaN</td>\n",
              "      <td>-2147483648</td>\n",
              "      <td>Direct</td>\n",
              "    </tr>\n",
              "  </tbody>\n",
              "</table>\n",
              "<p>1 rows × 34 columns</p>\n",
              "</div>\n",
              "      <button class=\"colab-df-convert\" onclick=\"convertToInteractive('df-dbbe6466-3ae7-48a4-9531-d66071a7059e')\"\n",
              "              title=\"Convert this dataframe to an interactive table.\"\n",
              "              style=\"display:none;\">\n",
              "        \n",
              "  <svg xmlns=\"http://www.w3.org/2000/svg\" height=\"24px\"viewBox=\"0 0 24 24\"\n",
              "       width=\"24px\">\n",
              "    <path d=\"M0 0h24v24H0V0z\" fill=\"none\"/>\n",
              "    <path d=\"M18.56 5.44l.94 2.06.94-2.06 2.06-.94-2.06-.94-.94-2.06-.94 2.06-2.06.94zm-11 1L8.5 8.5l.94-2.06 2.06-.94-2.06-.94L8.5 2.5l-.94 2.06-2.06.94zm10 10l.94 2.06.94-2.06 2.06-.94-2.06-.94-.94-2.06-.94 2.06-2.06.94z\"/><path d=\"M17.41 7.96l-1.37-1.37c-.4-.4-.92-.59-1.43-.59-.52 0-1.04.2-1.43.59L10.3 9.45l-7.72 7.72c-.78.78-.78 2.05 0 2.83L4 21.41c.39.39.9.59 1.41.59.51 0 1.02-.2 1.41-.59l7.78-7.78 2.81-2.81c.8-.78.8-2.07 0-2.86zM5.41 20L4 18.59l7.72-7.72 1.47 1.35L5.41 20z\"/>\n",
              "  </svg>\n",
              "      </button>\n",
              "      \n",
              "  <style>\n",
              "    .colab-df-container {\n",
              "      display:flex;\n",
              "      flex-wrap:wrap;\n",
              "      gap: 12px;\n",
              "    }\n",
              "\n",
              "    .colab-df-convert {\n",
              "      background-color: #E8F0FE;\n",
              "      border: none;\n",
              "      border-radius: 50%;\n",
              "      cursor: pointer;\n",
              "      display: none;\n",
              "      fill: #1967D2;\n",
              "      height: 32px;\n",
              "      padding: 0 0 0 0;\n",
              "      width: 32px;\n",
              "    }\n",
              "\n",
              "    .colab-df-convert:hover {\n",
              "      background-color: #E2EBFA;\n",
              "      box-shadow: 0px 1px 2px rgba(60, 64, 67, 0.3), 0px 1px 3px 1px rgba(60, 64, 67, 0.15);\n",
              "      fill: #174EA6;\n",
              "    }\n",
              "\n",
              "    [theme=dark] .colab-df-convert {\n",
              "      background-color: #3B4455;\n",
              "      fill: #D2E3FC;\n",
              "    }\n",
              "\n",
              "    [theme=dark] .colab-df-convert:hover {\n",
              "      background-color: #434B5C;\n",
              "      box-shadow: 0px 1px 3px 1px rgba(0, 0, 0, 0.15);\n",
              "      filter: drop-shadow(0px 1px 2px rgba(0, 0, 0, 0.3));\n",
              "      fill: #FFFFFF;\n",
              "    }\n",
              "  </style>\n",
              "\n",
              "      <script>\n",
              "        const buttonEl =\n",
              "          document.querySelector('#df-dbbe6466-3ae7-48a4-9531-d66071a7059e button.colab-df-convert');\n",
              "        buttonEl.style.display =\n",
              "          google.colab.kernel.accessAllowed ? 'block' : 'none';\n",
              "\n",
              "        async function convertToInteractive(key) {\n",
              "          const element = document.querySelector('#df-dbbe6466-3ae7-48a4-9531-d66071a7059e');\n",
              "          const dataTable =\n",
              "            await google.colab.kernel.invokeFunction('convertToInteractive',\n",
              "                                                     [key], {});\n",
              "          if (!dataTable) return;\n",
              "\n",
              "          const docLinkHtml = 'Like what you see? Visit the ' +\n",
              "            '<a target=\"_blank\" href=https://colab.research.google.com/notebooks/data_table.ipynb>data table notebook</a>'\n",
              "            + ' to learn more about interactive tables.';\n",
              "          element.innerHTML = '';\n",
              "          dataTable['output_type'] = 'display_data';\n",
              "          await google.colab.output.renderOutput(dataTable, element);\n",
              "          const docLink = document.createElement('div');\n",
              "          docLink.innerHTML = docLinkHtml;\n",
              "          element.appendChild(docLink);\n",
              "        }\n",
              "      </script>\n",
              "    </div>\n",
              "  </div>\n",
              "  "
            ]
          },
          "metadata": {},
          "execution_count": 14
        }
      ]
    },
    {
      "cell_type": "code",
      "source": [
        "%%R\n",
        "\n",
        "df |> filter(visitId == 1470499213)"
      ],
      "metadata": {
        "id": "ZcfZ7s6NQmyN",
        "colab": {
          "base_uri": "https://localhost:8080/"
        },
        "outputId": "24f8807c-fb16-4972-f913-93c239746139"
      },
      "execution_count": null,
      "outputs": [
        {
          "output_type": "stream",
          "name": "stdout",
          "text": [
            "           fullVisitorId    visitId     date browser\n",
            "9024 0180867433496757301 1470499213 20160806  Chrome\n",
            "9027 4174290472631645675 1470499213 20160806  Chrome\n",
            "                    browserVersion                   browserSize\n",
            "9024 not available in demo dataset not available in demo dataset\n",
            "9027 not available in demo dataset not available in demo dataset\n",
            "     operatingSystem        operatingSystemVersion isMobile\n",
            "9024         Windows not available in demo dataset    FALSE\n",
            "9027             iOS not available in demo dataset     TRUE\n",
            "              mobileDeviceBranding             mobileDeviceModel\n",
            "9024 not available in demo dataset not available in demo dataset\n",
            "9027 not available in demo dataset not available in demo dataset\n",
            "               mobileInputSelector              mobileDeviceInfo\n",
            "9024 not available in demo dataset not available in demo dataset\n",
            "9027 not available in demo dataset not available in demo dataset\n",
            "         mobileDeviceMarketingName                  flashVersion javaEnabled\n",
            "9024 not available in demo dataset not available in demo dataset          NA\n",
            "9027 not available in demo dataset not available in demo dataset          NA\n",
            "                          language                  screenColors\n",
            "9024 not available in demo dataset not available in demo dataset\n",
            "9027 not available in demo dataset not available in demo dataset\n",
            "                  screenResolution deviceCategory visits hits pageviews\n",
            "9024 not available in demo dataset        desktop      1    1         1\n",
            "9027 not available in demo dataset         tablet      1    1         1\n",
            "     timeOnSite bounces transactions transactionRevenue newVisits screenviews\n",
            "9024        NaN       1          NaN                NaN         1          NA\n",
            "9027        NaN       1          NaN                NaN         1          NA\n",
            "     uniqueScreenviews timeOnScreen totalTransactionRevenue sessionQualityDim\n",
            "9024                NA           NA                     NaN                NA\n",
            "9027                NA           NA                     NaN                NA\n",
            "     channelGrouping\n",
            "9024  Organic Search\n",
            "9027     Paid Search\n"
          ]
        }
      ]
    },
    {
      "cell_type": "markdown",
      "source": [
        "Interesting!  `visitId` is not unique.  However, we can create a unique ID by combining it with `fullVisitorId` and `date` (since a single session is recorded twice by Google Anaytics if it happens to span the change in date from 11:59 PM to 12:00 AM)."
      ],
      "metadata": {
        "id": "xYtp1Q6DQ31I"
      }
    },
    {
      "cell_type": "code",
      "source": [
        "%%R\n",
        "\n",
        "df <- df |> mutate(unique_id = paste0(fullVisitorId, visitId, date))"
      ],
      "metadata": {
        "id": "HYzz2MYBrl1z"
      },
      "execution_count": null,
      "outputs": []
    },
    {
      "cell_type": "code",
      "source": [
        "%R df$unique_id |> unique() |> length()"
      ],
      "metadata": {
        "id": "XmfMa9BmR1cL",
        "colab": {
          "base_uri": "https://localhost:8080/"
        },
        "outputId": "91fe3849-cc92-4de7-dcf1-feaafaa1354e"
      },
      "execution_count": null,
      "outputs": [
        {
          "output_type": "execute_result",
          "data": {
            "text/plain": [
              "array([74759], dtype=int32)"
            ]
          },
          "metadata": {},
          "execution_count": 22
        }
      ]
    },
    {
      "cell_type": "markdown",
      "source": [
        "Now there is one row per unique visit.  \n",
        "\n",
        "It is worth noting that we could choose to treat a session that occurs over two days not as two sessions, as we've done, but as one session that is arbitrarily split by the clock. This is a data modeling decision, and as such is neither right nor wrong. Keep it in mind though, since we may want to revise it. "
      ],
      "metadata": {
        "id": "mnK3vrjiSNOV"
      }
    },
    {
      "cell_type": "markdown",
      "source": [
        "## What is the distribution of `transactionRevenue`?"
      ],
      "metadata": {
        "id": "72wBvcwwffEW"
      }
    },
    {
      "cell_type": "code",
      "source": [
        "%R head(df$transactionRevenue, 200)"
      ],
      "metadata": {
        "id": "MafsyHItfmVu"
      },
      "execution_count": null,
      "outputs": []
    },
    {
      "cell_type": "markdown",
      "source": [
        "Clearly, a session that did not result in a purchase is coded `NaN`.  That should be recoded as 0 and the amount of the purchase should be returned to a legible number by dividing by 10^6. While we're at it, we will copy this column and shorten the name."
      ],
      "metadata": {
        "id": "A2CQLZ63hobc"
      }
    },
    {
      "cell_type": "code",
      "source": [
        "%%R \n",
        "\n",
        "df <- df |> \n",
        "mutate(rev = transactionRevenue,\n",
        "       rev = rev/10^6,\n",
        "       rev = replace_na(rev, 0))"
      ],
      "metadata": {
        "id": "p7ZEI8v7h_B1"
      },
      "execution_count": null,
      "outputs": []
    },
    {
      "cell_type": "code",
      "source": [
        "%R head(df$rev, 200)"
      ],
      "metadata": {
        "id": "SUqXxYOPjNND"
      },
      "execution_count": null,
      "outputs": []
    },
    {
      "cell_type": "markdown",
      "source": [
        "Let's visualize the distribution."
      ],
      "metadata": {
        "id": "SEjxXybPb4ev"
      }
    },
    {
      "cell_type": "code",
      "source": [
        "%%R\n",
        "\n",
        "df |>\n",
        "ggplot(aes(rev)) +\n",
        "geom_histogram() +\n",
        "labs(title = \"Distribution of purchase amounts\") +\n",
        "theme_minimal()\n"
      ],
      "metadata": {
        "id": "cgpCB3Azlob2"
      },
      "execution_count": null,
      "outputs": []
    },
    {
      "cell_type": "markdown",
      "source": [
        "`transactionRevenue` is zero inflated.  Let's take a look at just the distribution of revenue > 0."
      ],
      "metadata": {
        "id": "GeLlJsVzcEA-"
      }
    },
    {
      "cell_type": "code",
      "source": [
        "%%R\n",
        "\n",
        "df |>\n",
        "filter(rev > 0) |>\n",
        "ggplot(aes(rev)) +\n",
        "geom_histogram() +\n",
        "labs(title = \"Distribution of revenue > 0\") +\n",
        "theme_minimal()"
      ],
      "metadata": {
        "id": "yCWe7eymcWsN"
      },
      "execution_count": null,
      "outputs": []
    },
    {
      "cell_type": "code",
      "source": [
        "%%R\n",
        "\n",
        "df %>%\n",
        "filter(rev > 0) %>%\n",
        "select(rev) %>%\n",
        "summary\n"
      ],
      "metadata": {
        "id": "fES6TTw6ndu1"
      },
      "execution_count": null,
      "outputs": []
    },
    {
      "cell_type": "markdown",
      "source": [
        "Long right tail. Log normal? Looks like it:"
      ],
      "metadata": {
        "id": "hsJ2UH5slcZ_"
      }
    },
    {
      "cell_type": "code",
      "source": [
        "%%R\n",
        "\n",
        "df |>\n",
        "filter(rev > 0) |>\n",
        "ggplot(aes(log(rev))) +\n",
        "geom_histogram() +\n",
        "labs(title = \"Distribution of log revenue > 0\") +\n",
        "theme_minimal()"
      ],
      "metadata": {
        "id": "y2NgpVGHnzFj"
      },
      "execution_count": null,
      "outputs": []
    },
    {
      "cell_type": "markdown",
      "source": [
        "We may need to log transform `transactionRevenue`, depending on the algorithm used for modeling."
      ],
      "metadata": {
        "id": "VNLrOU0Hcqoc"
      }
    },
    {
      "cell_type": "markdown",
      "source": [
        "## What is the distribution of pageviews?\n",
        "\n",
        "There should be a minimum of 1, since the visit was recorded in Google Analytics."
      ],
      "metadata": {
        "id": "Ejmj16zPDsJv"
      }
    },
    {
      "cell_type": "code",
      "source": [
        "%%R\n",
        "summary(df$pageviews)"
      ],
      "metadata": {
        "id": "wLQqoBFHuMUJ"
      },
      "execution_count": null,
      "outputs": []
    },
    {
      "cell_type": "markdown",
      "source": [
        "Could look into what an NA might mean (if anything) for pageviews."
      ],
      "metadata": {
        "id": "Rco9AtMFumrd"
      }
    },
    {
      "cell_type": "code",
      "source": [
        "%%R \n",
        "\n",
        "ggplot(df, aes(pageviews)) +\n",
        "geom_histogram()\n"
      ],
      "metadata": {
        "id": "-wopnDr9DyHe"
      },
      "execution_count": null,
      "outputs": []
    },
    {
      "cell_type": "markdown",
      "source": [
        "Strongly right skewed with large outliers. At least 50% of the customers viewed just one or two pages."
      ],
      "metadata": {
        "id": "PXTXJvxYu0Ed"
      }
    },
    {
      "cell_type": "markdown",
      "source": [
        "## Are pageviews related to revenue? \n",
        "\n",
        "Specifically does the proportion of purchases and related revenue go up with `pageviews`?\n",
        "\n"
      ],
      "metadata": {
        "id": "VSvKI5npvfE-"
      }
    },
    {
      "cell_type": "markdown",
      "source": [
        "### Scatterplots"
      ],
      "metadata": {
        "id": "OaOKj7h-5Sha"
      }
    },
    {
      "cell_type": "code",
      "source": [
        "%%R\n",
        "\n",
        "ggplot(df, aes(pageviews, rev)) +\n",
        "geom_point() +\n",
        "geom_smooth(se = F)"
      ],
      "metadata": {
        "id": "BCSRd47hvgWx"
      },
      "execution_count": null,
      "outputs": []
    },
    {
      "cell_type": "markdown",
      "source": [
        "Yes, perhaps, but it is hard to tell whether the regression line's upward trend is due to influential points. Let's try a log transformation to reduce the influence of the outliers."
      ],
      "metadata": {
        "id": "JR3SxjEPwJC8"
      }
    },
    {
      "cell_type": "code",
      "source": [
        "%%R\n",
        "\n",
        "ggplot(df, aes(log(pageviews), log(rev + 1))) +\n",
        "geom_point() +\n",
        "geom_smooth(se = F)"
      ],
      "metadata": {
        "id": "ey3yOUa0wed6"
      },
      "execution_count": null,
      "outputs": []
    },
    {
      "cell_type": "markdown",
      "source": [
        "Same story but still hard to read with the majority of the overplotted a log(rev + 1) = 0."
      ],
      "metadata": {
        "id": "McoyWS4Bx-hL"
      }
    },
    {
      "cell_type": "code",
      "source": [
        "%%R\n",
        "\n",
        "df |>\n",
        "filter(pageviews > 1, rev > 0) |>\n",
        "ggplot(aes(log(pageviews), log(rev))) +\n",
        "geom_point() +\n",
        "geom_smooth(se = F)"
      ],
      "metadata": {
        "id": "2KBEUwvDyC0-"
      },
      "execution_count": null,
      "outputs": []
    },
    {
      "cell_type": "markdown",
      "source": [
        "### Binning\n",
        "\n",
        "Our strategy will be to bin `pageviews` and calculate the purchase rate and median amount in the bins.  (Binning, incidentally, is generally very useful for visualization and modeling.) \n",
        "\n",
        "Two dpyr functions are helpful to create bins:  `cut_interval()` and `cut_number()`.\n",
        "\n",
        "`cut_interval()` attempts to make the bin widths the same."
      ],
      "metadata": {
        "id": "kBg83_AMykb0"
      }
    },
    {
      "cell_type": "code",
      "source": [
        "%%R \n",
        "\n",
        "df |>\n",
        "filter(!is.na(pageviews)) |>\n",
        "mutate(pageview_bins = cut_interval(log(pageviews), 12)) |>\n",
        "group_by(pageview_bins) |>\n",
        "summarize(n = n(),\n",
        "          purchase_rate = sum(rev > 0)/n, # This calculates the proportion of purchases\n",
        "          median_purchase = median(rev[rev > 0])) # This calculates the median of rev > 0 min bins"
      ],
      "metadata": {
        "id": "Q9Lkp-8qEWEA"
      },
      "execution_count": null,
      "outputs": []
    },
    {
      "cell_type": "markdown",
      "source": [
        "`cut_number()` attempts to put the same number of observations in each bin. It does not work well in this instance because there are so many observations at pageview of 1 and 2."
      ],
      "metadata": {
        "id": "B3z_biqkfkcu"
      }
    },
    {
      "cell_type": "markdown",
      "source": [
        "### Questions beget questions---interaction?\n",
        "\n",
        "Does the relationship between `transactionRevenue` and `pageviews` vary by `channelGrouping`? This is an interaction."
      ],
      "metadata": {
        "id": "CemKkf4Kr095"
      }
    },
    {
      "cell_type": "code",
      "source": [
        "%%R \n",
        "\n",
        "df |>\n",
        "filter(!is.na(pageviews)) |>\n",
        "mutate(pageview_bins = cut_interval(log(pageviews), 8)) |>\n",
        "group_by(pageview_bins, channelGrouping) |>\n",
        "summarize(n = n(),\n",
        "          purchase_rate = sum(rev > 0)/n, \n",
        "          median_purchase = median(rev[rev > 0])) |>\n",
        "          filter(purchase_rate > 0, # filter for better legibility\n",
        "                 n > 50) |>\n",
        "ggplot(aes(pageview_bins, purchase_rate, fill = channelGrouping))  +\n",
        "geom_col(position = \"dodge\") +\n",
        "labs(title = \"Purchase rate by pageviews and channels\")"
      ],
      "metadata": {
        "id": "6YBdgGdA3dky"
      },
      "execution_count": null,
      "outputs": []
    }
  ]
}