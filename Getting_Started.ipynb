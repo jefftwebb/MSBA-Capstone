{
  "nbformat": 4,
  "nbformat_minor": 0,
  "metadata": {
    "colab": {
      "provenance": [],
      "toc_visible": true,
      "authorship_tag": "ABX9TyMclkcgd05h+w/lLeptqMU6",
      "include_colab_link": true
    },
    "kernelspec": {
      "name": "python3",
      "display_name": "Python 3"
    },
    "language_info": {
      "name": "python"
    }
  },
  "cells": [
    {
      "cell_type": "markdown",
      "metadata": {
        "id": "view-in-github",
        "colab_type": "text"
      },
      "source": [
        "<a href=\"https://colab.research.google.com/github/jefftwebb/MSBA-Capstone/blob/main/Getting_Started.ipynb\" target=\"_parent\"><img src=\"https://colab.research.google.com/assets/colab-badge.svg\" alt=\"Open In Colab\"/></a>"
      ]
    },
    {
      "cell_type": "markdown",
      "source": [
        "# Get Started Writing SQL with Google Colab"
      ],
      "metadata": {
        "id": "3j8Uiu5uMNw0"
      }
    },
    {
      "cell_type": "markdown",
      "source": [
        "First step is to connect to BigQuery.\n",
        "\n",
        "This interactive authentication requires that you have a google account."
      ],
      "metadata": {
        "id": "AB4tcmJBMcYR"
      }
    },
    {
      "cell_type": "code",
      "source": [
        "from google.colab import auth\n",
        "auth.authenticate_user()\n"
      ],
      "metadata": {
        "id": "iYXY-4twMrHs"
      },
      "execution_count": null,
      "outputs": []
    },
    {
      "cell_type": "markdown",
      "source": [
        "Next, make sure that you can query the google analytics dataset using your project ID. How do you find your project ID? Look in the upper left of the GCP dashboard for a project button.  Clicking this will reveal the IDs of your projects.\n",
        "\n",
        "In the code below replace \"project-id\" with your own project ID.\n",
        "\n",
        "The result of your query will be stored as \"df.\""
      ],
      "metadata": {
        "id": "Jnx1RdEgMm7f"
      }
    },
    {
      "cell_type": "code",
      "source": [
        "%%bigquery --project project-id df\n",
        "\n",
        "SELECT * FROM bigquery-public-data.google_analytics_sample.ga_sessions_20170801\n",
        "limit 10"
      ],
      "metadata": {
        "id": "jZaa53o9NKS-"
      },
      "execution_count": null,
      "outputs": []
    },
    {
      "cell_type": "markdown",
      "source": [
        "Verify that your query worked by using python to investigate the data:"
      ],
      "metadata": {
        "id": "PMYGz4jYMeiI"
      }
    },
    {
      "cell_type": "code",
      "source": [
        "df.shape"
      ],
      "metadata": {
        "id": "P8T5eA09OyGD"
      },
      "execution_count": null,
      "outputs": []
    },
    {
      "cell_type": "markdown",
      "source": [
        "If you can see the dimensions of the dataset then your query worked. Good job!  You are now ready to do further EDA using Python or R."
      ],
      "metadata": {
        "id": "v5PCs5psO_Og"
      }
    }
  ]
}